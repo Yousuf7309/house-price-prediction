{
 "cells": [
  {
   "cell_type": "code",
   "execution_count": 133,
   "id": "fb97e271-5f2e-4f0f-8a9e-549f121474b4",
   "metadata": {},
   "outputs": [],
   "source": [
    "import pandas as pd\n",
    "import numpy as np"
   ]
  },
  {
   "cell_type": "code",
   "execution_count": 135,
   "id": "cd3d5488-06b4-4506-bc39-62f8581e37db",
   "metadata": {},
   "outputs": [
    {
     "data": {
      "text/html": [
       "<div>\n",
       "<style scoped>\n",
       "    .dataframe tbody tr th:only-of-type {\n",
       "        vertical-align: middle;\n",
       "    }\n",
       "\n",
       "    .dataframe tbody tr th {\n",
       "        vertical-align: top;\n",
       "    }\n",
       "\n",
       "    .dataframe thead th {\n",
       "        text-align: right;\n",
       "    }\n",
       "</style>\n",
       "<table border=\"1\" class=\"dataframe\">\n",
       "  <thead>\n",
       "    <tr style=\"text-align: right;\">\n",
       "      <th></th>\n",
       "      <th>Id</th>\n",
       "      <th>MSSubClass</th>\n",
       "      <th>MSZoning</th>\n",
       "      <th>LotFrontage</th>\n",
       "      <th>LotArea</th>\n",
       "      <th>Street</th>\n",
       "      <th>Alley</th>\n",
       "      <th>LotShape</th>\n",
       "      <th>LandContour</th>\n",
       "      <th>Utilities</th>\n",
       "      <th>...</th>\n",
       "      <th>PoolArea</th>\n",
       "      <th>PoolQC</th>\n",
       "      <th>Fence</th>\n",
       "      <th>MiscFeature</th>\n",
       "      <th>MiscVal</th>\n",
       "      <th>MoSold</th>\n",
       "      <th>YrSold</th>\n",
       "      <th>SaleType</th>\n",
       "      <th>SaleCondition</th>\n",
       "      <th>SalePrice</th>\n",
       "    </tr>\n",
       "  </thead>\n",
       "  <tbody>\n",
       "    <tr>\n",
       "      <th>0</th>\n",
       "      <td>1</td>\n",
       "      <td>60</td>\n",
       "      <td>RL</td>\n",
       "      <td>65.0</td>\n",
       "      <td>8450</td>\n",
       "      <td>Pave</td>\n",
       "      <td>NaN</td>\n",
       "      <td>Reg</td>\n",
       "      <td>Lvl</td>\n",
       "      <td>AllPub</td>\n",
       "      <td>...</td>\n",
       "      <td>0</td>\n",
       "      <td>NaN</td>\n",
       "      <td>NaN</td>\n",
       "      <td>NaN</td>\n",
       "      <td>0</td>\n",
       "      <td>2</td>\n",
       "      <td>2008</td>\n",
       "      <td>WD</td>\n",
       "      <td>Normal</td>\n",
       "      <td>208500</td>\n",
       "    </tr>\n",
       "    <tr>\n",
       "      <th>1</th>\n",
       "      <td>2</td>\n",
       "      <td>20</td>\n",
       "      <td>RL</td>\n",
       "      <td>80.0</td>\n",
       "      <td>9600</td>\n",
       "      <td>Pave</td>\n",
       "      <td>NaN</td>\n",
       "      <td>Reg</td>\n",
       "      <td>Lvl</td>\n",
       "      <td>AllPub</td>\n",
       "      <td>...</td>\n",
       "      <td>0</td>\n",
       "      <td>NaN</td>\n",
       "      <td>NaN</td>\n",
       "      <td>NaN</td>\n",
       "      <td>0</td>\n",
       "      <td>5</td>\n",
       "      <td>2007</td>\n",
       "      <td>WD</td>\n",
       "      <td>Normal</td>\n",
       "      <td>181500</td>\n",
       "    </tr>\n",
       "    <tr>\n",
       "      <th>2</th>\n",
       "      <td>3</td>\n",
       "      <td>60</td>\n",
       "      <td>RL</td>\n",
       "      <td>68.0</td>\n",
       "      <td>11250</td>\n",
       "      <td>Pave</td>\n",
       "      <td>NaN</td>\n",
       "      <td>IR1</td>\n",
       "      <td>Lvl</td>\n",
       "      <td>AllPub</td>\n",
       "      <td>...</td>\n",
       "      <td>0</td>\n",
       "      <td>NaN</td>\n",
       "      <td>NaN</td>\n",
       "      <td>NaN</td>\n",
       "      <td>0</td>\n",
       "      <td>9</td>\n",
       "      <td>2008</td>\n",
       "      <td>WD</td>\n",
       "      <td>Normal</td>\n",
       "      <td>223500</td>\n",
       "    </tr>\n",
       "    <tr>\n",
       "      <th>3</th>\n",
       "      <td>4</td>\n",
       "      <td>70</td>\n",
       "      <td>RL</td>\n",
       "      <td>60.0</td>\n",
       "      <td>9550</td>\n",
       "      <td>Pave</td>\n",
       "      <td>NaN</td>\n",
       "      <td>IR1</td>\n",
       "      <td>Lvl</td>\n",
       "      <td>AllPub</td>\n",
       "      <td>...</td>\n",
       "      <td>0</td>\n",
       "      <td>NaN</td>\n",
       "      <td>NaN</td>\n",
       "      <td>NaN</td>\n",
       "      <td>0</td>\n",
       "      <td>2</td>\n",
       "      <td>2006</td>\n",
       "      <td>WD</td>\n",
       "      <td>Abnorml</td>\n",
       "      <td>140000</td>\n",
       "    </tr>\n",
       "    <tr>\n",
       "      <th>4</th>\n",
       "      <td>5</td>\n",
       "      <td>60</td>\n",
       "      <td>RL</td>\n",
       "      <td>84.0</td>\n",
       "      <td>14260</td>\n",
       "      <td>Pave</td>\n",
       "      <td>NaN</td>\n",
       "      <td>IR1</td>\n",
       "      <td>Lvl</td>\n",
       "      <td>AllPub</td>\n",
       "      <td>...</td>\n",
       "      <td>0</td>\n",
       "      <td>NaN</td>\n",
       "      <td>NaN</td>\n",
       "      <td>NaN</td>\n",
       "      <td>0</td>\n",
       "      <td>12</td>\n",
       "      <td>2008</td>\n",
       "      <td>WD</td>\n",
       "      <td>Normal</td>\n",
       "      <td>250000</td>\n",
       "    </tr>\n",
       "  </tbody>\n",
       "</table>\n",
       "<p>5 rows × 81 columns</p>\n",
       "</div>"
      ],
      "text/plain": [
       "   Id  MSSubClass MSZoning  LotFrontage  LotArea Street Alley LotShape  \\\n",
       "0   1          60       RL         65.0     8450   Pave   NaN      Reg   \n",
       "1   2          20       RL         80.0     9600   Pave   NaN      Reg   \n",
       "2   3          60       RL         68.0    11250   Pave   NaN      IR1   \n",
       "3   4          70       RL         60.0     9550   Pave   NaN      IR1   \n",
       "4   5          60       RL         84.0    14260   Pave   NaN      IR1   \n",
       "\n",
       "  LandContour Utilities  ... PoolArea PoolQC Fence MiscFeature MiscVal MoSold  \\\n",
       "0         Lvl    AllPub  ...        0    NaN   NaN         NaN       0      2   \n",
       "1         Lvl    AllPub  ...        0    NaN   NaN         NaN       0      5   \n",
       "2         Lvl    AllPub  ...        0    NaN   NaN         NaN       0      9   \n",
       "3         Lvl    AllPub  ...        0    NaN   NaN         NaN       0      2   \n",
       "4         Lvl    AllPub  ...        0    NaN   NaN         NaN       0     12   \n",
       "\n",
       "  YrSold  SaleType  SaleCondition  SalePrice  \n",
       "0   2008        WD         Normal     208500  \n",
       "1   2007        WD         Normal     181500  \n",
       "2   2008        WD         Normal     223500  \n",
       "3   2006        WD        Abnorml     140000  \n",
       "4   2008        WD         Normal     250000  \n",
       "\n",
       "[5 rows x 81 columns]"
      ]
     },
     "execution_count": 135,
     "metadata": {},
     "output_type": "execute_result"
    }
   ],
   "source": [
    "train_df = pd.read_csv(r\"/Users/mohammedyousuf/Documents/House_Price_Prediction/data/train.csv\")\n",
    "train_df.head()"
   ]
  },
  {
   "cell_type": "code",
   "execution_count": 137,
   "id": "03d343cb-bfbc-4094-b4e0-2376fd0d70ed",
   "metadata": {},
   "outputs": [
    {
     "data": {
      "text/html": [
       "<div>\n",
       "<style scoped>\n",
       "    .dataframe tbody tr th:only-of-type {\n",
       "        vertical-align: middle;\n",
       "    }\n",
       "\n",
       "    .dataframe tbody tr th {\n",
       "        vertical-align: top;\n",
       "    }\n",
       "\n",
       "    .dataframe thead th {\n",
       "        text-align: right;\n",
       "    }\n",
       "</style>\n",
       "<table border=\"1\" class=\"dataframe\">\n",
       "  <thead>\n",
       "    <tr style=\"text-align: right;\">\n",
       "      <th></th>\n",
       "      <th>Id</th>\n",
       "      <th>MSSubClass</th>\n",
       "      <th>MSZoning</th>\n",
       "      <th>LotFrontage</th>\n",
       "      <th>LotArea</th>\n",
       "      <th>Street</th>\n",
       "      <th>Alley</th>\n",
       "      <th>LotShape</th>\n",
       "      <th>LandContour</th>\n",
       "      <th>Utilities</th>\n",
       "      <th>...</th>\n",
       "      <th>ScreenPorch</th>\n",
       "      <th>PoolArea</th>\n",
       "      <th>PoolQC</th>\n",
       "      <th>Fence</th>\n",
       "      <th>MiscFeature</th>\n",
       "      <th>MiscVal</th>\n",
       "      <th>MoSold</th>\n",
       "      <th>YrSold</th>\n",
       "      <th>SaleType</th>\n",
       "      <th>SaleCondition</th>\n",
       "    </tr>\n",
       "  </thead>\n",
       "  <tbody>\n",
       "    <tr>\n",
       "      <th>0</th>\n",
       "      <td>1461</td>\n",
       "      <td>20</td>\n",
       "      <td>RH</td>\n",
       "      <td>80.0</td>\n",
       "      <td>11622</td>\n",
       "      <td>Pave</td>\n",
       "      <td>NaN</td>\n",
       "      <td>Reg</td>\n",
       "      <td>Lvl</td>\n",
       "      <td>AllPub</td>\n",
       "      <td>...</td>\n",
       "      <td>120</td>\n",
       "      <td>0</td>\n",
       "      <td>NaN</td>\n",
       "      <td>MnPrv</td>\n",
       "      <td>NaN</td>\n",
       "      <td>0</td>\n",
       "      <td>6</td>\n",
       "      <td>2010</td>\n",
       "      <td>WD</td>\n",
       "      <td>Normal</td>\n",
       "    </tr>\n",
       "    <tr>\n",
       "      <th>1</th>\n",
       "      <td>1462</td>\n",
       "      <td>20</td>\n",
       "      <td>RL</td>\n",
       "      <td>81.0</td>\n",
       "      <td>14267</td>\n",
       "      <td>Pave</td>\n",
       "      <td>NaN</td>\n",
       "      <td>IR1</td>\n",
       "      <td>Lvl</td>\n",
       "      <td>AllPub</td>\n",
       "      <td>...</td>\n",
       "      <td>0</td>\n",
       "      <td>0</td>\n",
       "      <td>NaN</td>\n",
       "      <td>NaN</td>\n",
       "      <td>Gar2</td>\n",
       "      <td>12500</td>\n",
       "      <td>6</td>\n",
       "      <td>2010</td>\n",
       "      <td>WD</td>\n",
       "      <td>Normal</td>\n",
       "    </tr>\n",
       "    <tr>\n",
       "      <th>2</th>\n",
       "      <td>1463</td>\n",
       "      <td>60</td>\n",
       "      <td>RL</td>\n",
       "      <td>74.0</td>\n",
       "      <td>13830</td>\n",
       "      <td>Pave</td>\n",
       "      <td>NaN</td>\n",
       "      <td>IR1</td>\n",
       "      <td>Lvl</td>\n",
       "      <td>AllPub</td>\n",
       "      <td>...</td>\n",
       "      <td>0</td>\n",
       "      <td>0</td>\n",
       "      <td>NaN</td>\n",
       "      <td>MnPrv</td>\n",
       "      <td>NaN</td>\n",
       "      <td>0</td>\n",
       "      <td>3</td>\n",
       "      <td>2010</td>\n",
       "      <td>WD</td>\n",
       "      <td>Normal</td>\n",
       "    </tr>\n",
       "    <tr>\n",
       "      <th>3</th>\n",
       "      <td>1464</td>\n",
       "      <td>60</td>\n",
       "      <td>RL</td>\n",
       "      <td>78.0</td>\n",
       "      <td>9978</td>\n",
       "      <td>Pave</td>\n",
       "      <td>NaN</td>\n",
       "      <td>IR1</td>\n",
       "      <td>Lvl</td>\n",
       "      <td>AllPub</td>\n",
       "      <td>...</td>\n",
       "      <td>0</td>\n",
       "      <td>0</td>\n",
       "      <td>NaN</td>\n",
       "      <td>NaN</td>\n",
       "      <td>NaN</td>\n",
       "      <td>0</td>\n",
       "      <td>6</td>\n",
       "      <td>2010</td>\n",
       "      <td>WD</td>\n",
       "      <td>Normal</td>\n",
       "    </tr>\n",
       "    <tr>\n",
       "      <th>4</th>\n",
       "      <td>1465</td>\n",
       "      <td>120</td>\n",
       "      <td>RL</td>\n",
       "      <td>43.0</td>\n",
       "      <td>5005</td>\n",
       "      <td>Pave</td>\n",
       "      <td>NaN</td>\n",
       "      <td>IR1</td>\n",
       "      <td>HLS</td>\n",
       "      <td>AllPub</td>\n",
       "      <td>...</td>\n",
       "      <td>144</td>\n",
       "      <td>0</td>\n",
       "      <td>NaN</td>\n",
       "      <td>NaN</td>\n",
       "      <td>NaN</td>\n",
       "      <td>0</td>\n",
       "      <td>1</td>\n",
       "      <td>2010</td>\n",
       "      <td>WD</td>\n",
       "      <td>Normal</td>\n",
       "    </tr>\n",
       "  </tbody>\n",
       "</table>\n",
       "<p>5 rows × 80 columns</p>\n",
       "</div>"
      ],
      "text/plain": [
       "     Id  MSSubClass MSZoning  LotFrontage  LotArea Street Alley LotShape  \\\n",
       "0  1461          20       RH         80.0    11622   Pave   NaN      Reg   \n",
       "1  1462          20       RL         81.0    14267   Pave   NaN      IR1   \n",
       "2  1463          60       RL         74.0    13830   Pave   NaN      IR1   \n",
       "3  1464          60       RL         78.0     9978   Pave   NaN      IR1   \n",
       "4  1465         120       RL         43.0     5005   Pave   NaN      IR1   \n",
       "\n",
       "  LandContour Utilities  ... ScreenPorch PoolArea PoolQC  Fence MiscFeature  \\\n",
       "0         Lvl    AllPub  ...         120        0    NaN  MnPrv         NaN   \n",
       "1         Lvl    AllPub  ...           0        0    NaN    NaN        Gar2   \n",
       "2         Lvl    AllPub  ...           0        0    NaN  MnPrv         NaN   \n",
       "3         Lvl    AllPub  ...           0        0    NaN    NaN         NaN   \n",
       "4         HLS    AllPub  ...         144        0    NaN    NaN         NaN   \n",
       "\n",
       "  MiscVal MoSold  YrSold  SaleType  SaleCondition  \n",
       "0       0      6    2010        WD         Normal  \n",
       "1   12500      6    2010        WD         Normal  \n",
       "2       0      3    2010        WD         Normal  \n",
       "3       0      6    2010        WD         Normal  \n",
       "4       0      1    2010        WD         Normal  \n",
       "\n",
       "[5 rows x 80 columns]"
      ]
     },
     "execution_count": 137,
     "metadata": {},
     "output_type": "execute_result"
    }
   ],
   "source": [
    "test_df = pd.read_csv(r\"/Users/mohammedyousuf/Documents/House_Price_Prediction/data/test.csv\")\n",
    "test_df.head()"
   ]
  },
  {
   "cell_type": "code",
   "execution_count": 139,
   "id": "213c4eb3-d033-4bae-9c81-2a21df144da1",
   "metadata": {},
   "outputs": [
    {
     "data": {
      "text/plain": [
       "((1460, 81), (1459, 80))"
      ]
     },
     "execution_count": 139,
     "metadata": {},
     "output_type": "execute_result"
    }
   ],
   "source": [
    "train_df.shape, test_df.shape "
   ]
  },
  {
   "cell_type": "code",
   "execution_count": 141,
   "id": "77772b6f-c584-46ce-b2ad-8cf9f74d46ca",
   "metadata": {
    "scrolled": true
   },
   "outputs": [
    {
     "name": "stdout",
     "output_type": "stream",
     "text": [
      "<class 'pandas.core.frame.DataFrame'>\n",
      "RangeIndex: 1460 entries, 0 to 1459\n",
      "Data columns (total 81 columns):\n",
      " #   Column         Non-Null Count  Dtype  \n",
      "---  ------         --------------  -----  \n",
      " 0   Id             1460 non-null   int64  \n",
      " 1   MSSubClass     1460 non-null   int64  \n",
      " 2   MSZoning       1460 non-null   object \n",
      " 3   LotFrontage    1201 non-null   float64\n",
      " 4   LotArea        1460 non-null   int64  \n",
      " 5   Street         1460 non-null   object \n",
      " 6   Alley          91 non-null     object \n",
      " 7   LotShape       1460 non-null   object \n",
      " 8   LandContour    1460 non-null   object \n",
      " 9   Utilities      1460 non-null   object \n",
      " 10  LotConfig      1460 non-null   object \n",
      " 11  LandSlope      1460 non-null   object \n",
      " 12  Neighborhood   1460 non-null   object \n",
      " 13  Condition1     1460 non-null   object \n",
      " 14  Condition2     1460 non-null   object \n",
      " 15  BldgType       1460 non-null   object \n",
      " 16  HouseStyle     1460 non-null   object \n",
      " 17  OverallQual    1460 non-null   int64  \n",
      " 18  OverallCond    1460 non-null   int64  \n",
      " 19  YearBuilt      1460 non-null   int64  \n",
      " 20  YearRemodAdd   1460 non-null   int64  \n",
      " 21  RoofStyle      1460 non-null   object \n",
      " 22  RoofMatl       1460 non-null   object \n",
      " 23  Exterior1st    1460 non-null   object \n",
      " 24  Exterior2nd    1460 non-null   object \n",
      " 25  MasVnrType     588 non-null    object \n",
      " 26  MasVnrArea     1452 non-null   float64\n",
      " 27  ExterQual      1460 non-null   object \n",
      " 28  ExterCond      1460 non-null   object \n",
      " 29  Foundation     1460 non-null   object \n",
      " 30  BsmtQual       1423 non-null   object \n",
      " 31  BsmtCond       1423 non-null   object \n",
      " 32  BsmtExposure   1422 non-null   object \n",
      " 33  BsmtFinType1   1423 non-null   object \n",
      " 34  BsmtFinSF1     1460 non-null   int64  \n",
      " 35  BsmtFinType2   1422 non-null   object \n",
      " 36  BsmtFinSF2     1460 non-null   int64  \n",
      " 37  BsmtUnfSF      1460 non-null   int64  \n",
      " 38  TotalBsmtSF    1460 non-null   int64  \n",
      " 39  Heating        1460 non-null   object \n",
      " 40  HeatingQC      1460 non-null   object \n",
      " 41  CentralAir     1460 non-null   object \n",
      " 42  Electrical     1459 non-null   object \n",
      " 43  1stFlrSF       1460 non-null   int64  \n",
      " 44  2ndFlrSF       1460 non-null   int64  \n",
      " 45  LowQualFinSF   1460 non-null   int64  \n",
      " 46  GrLivArea      1460 non-null   int64  \n",
      " 47  BsmtFullBath   1460 non-null   int64  \n",
      " 48  BsmtHalfBath   1460 non-null   int64  \n",
      " 49  FullBath       1460 non-null   int64  \n",
      " 50  HalfBath       1460 non-null   int64  \n",
      " 51  BedroomAbvGr   1460 non-null   int64  \n",
      " 52  KitchenAbvGr   1460 non-null   int64  \n",
      " 53  KitchenQual    1460 non-null   object \n",
      " 54  TotRmsAbvGrd   1460 non-null   int64  \n",
      " 55  Functional     1460 non-null   object \n",
      " 56  Fireplaces     1460 non-null   int64  \n",
      " 57  FireplaceQu    770 non-null    object \n",
      " 58  GarageType     1379 non-null   object \n",
      " 59  GarageYrBlt    1379 non-null   float64\n",
      " 60  GarageFinish   1379 non-null   object \n",
      " 61  GarageCars     1460 non-null   int64  \n",
      " 62  GarageArea     1460 non-null   int64  \n",
      " 63  GarageQual     1379 non-null   object \n",
      " 64  GarageCond     1379 non-null   object \n",
      " 65  PavedDrive     1460 non-null   object \n",
      " 66  WoodDeckSF     1460 non-null   int64  \n",
      " 67  OpenPorchSF    1460 non-null   int64  \n",
      " 68  EnclosedPorch  1460 non-null   int64  \n",
      " 69  3SsnPorch      1460 non-null   int64  \n",
      " 70  ScreenPorch    1460 non-null   int64  \n",
      " 71  PoolArea       1460 non-null   int64  \n",
      " 72  PoolQC         7 non-null      object \n",
      " 73  Fence          281 non-null    object \n",
      " 74  MiscFeature    54 non-null     object \n",
      " 75  MiscVal        1460 non-null   int64  \n",
      " 76  MoSold         1460 non-null   int64  \n",
      " 77  YrSold         1460 non-null   int64  \n",
      " 78  SaleType       1460 non-null   object \n",
      " 79  SaleCondition  1460 non-null   object \n",
      " 80  SalePrice      1460 non-null   int64  \n",
      "dtypes: float64(3), int64(35), object(43)\n",
      "memory usage: 924.0+ KB\n"
     ]
    }
   ],
   "source": [
    "train_df.info()"
   ]
  },
  {
   "cell_type": "markdown",
   "id": "e21dde41-3aea-4daa-8a27-9fec138d551b",
   "metadata": {},
   "source": [
    "## Duplicate values Treatment"
   ]
  },
  {
   "cell_type": "code",
   "execution_count": 167,
   "id": "2d36375c-49d2-4da8-b04f-03713ef72a14",
   "metadata": {},
   "outputs": [
    {
     "name": "stdout",
     "output_type": "stream",
     "text": [
      "Number of duplicate rows: 0\n"
     ]
    }
   ],
   "source": [
    "duplicate_count = train_df.duplicated().sum()\n",
    "print(f\"Number of duplicate rows: {duplicate_count}\")"
   ]
  },
  {
   "cell_type": "markdown",
   "id": "d50ec678-0b28-41a7-b033-c555bc91f501",
   "metadata": {},
   "source": [
    "## Missing Values Treatment"
   ]
  },
  {
   "cell_type": "code",
   "execution_count": 144,
   "id": "6463d139-b3c1-4a2e-ab79-aa42affbfe78",
   "metadata": {
    "scrolled": true
   },
   "outputs": [
    {
     "data": {
      "text/plain": [
       "PoolQC          1453\n",
       "MiscFeature     1406\n",
       "Alley           1369\n",
       "Fence           1179\n",
       "MasVnrType       872\n",
       "FireplaceQu      690\n",
       "LotFrontage      259\n",
       "GarageYrBlt       81\n",
       "GarageCond        81\n",
       "GarageType        81\n",
       "GarageFinish      81\n",
       "GarageQual        81\n",
       "BsmtFinType2      38\n",
       "BsmtExposure      38\n",
       "BsmtQual          37\n",
       "BsmtCond          37\n",
       "BsmtFinType1      37\n",
       "MasVnrArea         8\n",
       "Electrical         1\n",
       "dtype: int64"
      ]
     },
     "execution_count": 144,
     "metadata": {},
     "output_type": "execute_result"
    }
   ],
   "source": [
    "train_df.isnull().sum().sort_values(ascending = False)[train_df.isnull().sum() > 0]"
   ]
  },
  {
   "cell_type": "code",
   "execution_count": 146,
   "id": "2bf234a7-8212-4ee3-979a-68959ed43020",
   "metadata": {},
   "outputs": [],
   "source": [
    "#Lets drop the columns with more number of missing values as these columns anyway not adding much value on the SalePrice\n",
    "\n",
    "train_df = train_df.drop(columns = [\"PoolQC\", \"MiscFeature\",\"Alley\", \"Fence\"])"
   ]
  },
  {
   "cell_type": "code",
   "execution_count": 148,
   "id": "ed965658-3492-46d5-a7ba-2fdc2a13cb85",
   "metadata": {},
   "outputs": [
    {
     "data": {
      "text/plain": [
       "MasVnrType      872\n",
       "FireplaceQu     690\n",
       "LotFrontage     259\n",
       "GarageCond       81\n",
       "GarageYrBlt      81\n",
       "GarageFinish     81\n",
       "GarageQual       81\n",
       "GarageType       81\n",
       "BsmtFinType2     38\n",
       "BsmtExposure     38\n",
       "BsmtFinType1     37\n",
       "BsmtCond         37\n",
       "BsmtQual         37\n",
       "MasVnrArea        8\n",
       "Electrical        1\n",
       "dtype: int64"
      ]
     },
     "execution_count": 148,
     "metadata": {},
     "output_type": "execute_result"
    }
   ],
   "source": [
    "train_df.isnull().sum().sort_values(ascending = False)[train_df.isnull().sum() > 0]"
   ]
  },
  {
   "cell_type": "code",
   "execution_count": 150,
   "id": "1d124291-1636-43ed-a2e6-1c467bf1c30f",
   "metadata": {
    "scrolled": true
   },
   "outputs": [
    {
     "name": "stdout",
     "output_type": "stream",
     "text": [
      "categorical_cols -  Index(['MSZoning', 'Street', 'LotShape', 'LandContour', 'Utilities',\n",
      "       'LotConfig', 'LandSlope', 'Neighborhood', 'Condition1', 'Condition2',\n",
      "       'BldgType', 'HouseStyle', 'RoofStyle', 'RoofMatl', 'Exterior1st',\n",
      "       'Exterior2nd', 'MasVnrType', 'ExterQual', 'ExterCond', 'Foundation',\n",
      "       'BsmtQual', 'BsmtCond', 'BsmtExposure', 'BsmtFinType1', 'BsmtFinType2',\n",
      "       'Heating', 'HeatingQC', 'CentralAir', 'Electrical', 'KitchenQual',\n",
      "       'Functional', 'FireplaceQu', 'GarageType', 'GarageFinish', 'GarageQual',\n",
      "       'GarageCond', 'PavedDrive', 'SaleType', 'SaleCondition'],\n",
      "      dtype='object')\n",
      "-------------------\n",
      "numerical_cols -  Index(['Id', 'MSSubClass', 'LotFrontage', 'LotArea', 'OverallQual',\n",
      "       'OverallCond', 'YearBuilt', 'YearRemodAdd', 'MasVnrArea', 'BsmtFinSF1',\n",
      "       'BsmtFinSF2', 'BsmtUnfSF', 'TotalBsmtSF', '1stFlrSF', '2ndFlrSF',\n",
      "       'LowQualFinSF', 'GrLivArea', 'BsmtFullBath', 'BsmtHalfBath', 'FullBath',\n",
      "       'HalfBath', 'BedroomAbvGr', 'KitchenAbvGr', 'TotRmsAbvGrd',\n",
      "       'Fireplaces', 'GarageYrBlt', 'GarageCars', 'GarageArea', 'WoodDeckSF',\n",
      "       'OpenPorchSF', 'EnclosedPorch', '3SsnPorch', 'ScreenPorch', 'PoolArea',\n",
      "       'MiscVal', 'MoSold', 'YrSold', 'SalePrice'],\n",
      "      dtype='object')\n"
     ]
    }
   ],
   "source": [
    "# Separate categorical and numerical columns\n",
    "categorical_cols = train_df.select_dtypes(include=['object', 'category']).columns\n",
    "numerical_cols = train_df.select_dtypes(include=['number']).columns\n",
    "\n",
    "print(\"categorical_cols - \",categorical_cols)\n",
    "print(\"-------------------\")\n",
    "print(\"numerical_cols - \",numerical_cols)"
   ]
  },
  {
   "cell_type": "code",
   "execution_count": 152,
   "id": "d37c955a-41dd-4aec-9e86-1a448bf4de47",
   "metadata": {},
   "outputs": [
    {
     "name": "stdout",
     "output_type": "stream",
     "text": [
      "MasVnrType filled with mode -  BrkFace\n",
      "BsmtQual filled with mode -  TA\n",
      "BsmtCond filled with mode -  TA\n",
      "BsmtExposure filled with mode -  No\n",
      "BsmtFinType1 filled with mode -  Unf\n",
      "BsmtFinType2 filled with mode -  Unf\n",
      "Electrical filled with mode -  SBrkr\n",
      "FireplaceQu filled with mode -  Gd\n",
      "GarageType filled with mode -  Attchd\n",
      "GarageFinish filled with mode -  Unf\n",
      "GarageQual filled with mode -  TA\n",
      "GarageCond filled with mode -  TA\n",
      "LotFrontage filled with median -  69.0\n",
      "MasVnrArea filled with median -  0.0\n",
      "GarageYrBlt filled with median -  1980.0\n"
     ]
    }
   ],
   "source": [
    "#For now lets fill the missing value - for categorical cols lets fill with mode and for numerical cols lets fill with median\n",
    "\n",
    "for cols in categorical_cols:\n",
    "    if train_df[cols].isnull().sum()>0:\n",
    "        train_df[cols] = train_df[cols].fillna(train_df[cols].mode()[0])\n",
    "        print(cols, \"filled with mode - \", train_df[cols].mode()[0])\n",
    "\n",
    "\n",
    "\n",
    "for cols in numerical_cols:\n",
    "    if train_df[cols].isnull().sum()>0:\n",
    "        train_df[cols] = train_df[cols].fillna(train_df[cols].median())\n",
    "        print(cols, \"filled with median - \", train_df[cols].median())"
   ]
  },
  {
   "cell_type": "code",
   "execution_count": 154,
   "id": "dedcb239-bc11-4201-aa77-ef81ce4e0df3",
   "metadata": {},
   "outputs": [
    {
     "data": {
      "text/plain": [
       "Series([], dtype: int64)"
      ]
     },
     "execution_count": 154,
     "metadata": {},
     "output_type": "execute_result"
    }
   ],
   "source": [
    "#checking the missing values \n",
    "train_df.isnull().sum()[train_df.isnull().sum()>0]"
   ]
  },
  {
   "cell_type": "markdown",
   "id": "28c9f3b8-d3a3-4db8-a09c-58c70322d8dc",
   "metadata": {},
   "source": [
    "## Encoding"
   ]
  },
  {
   "cell_type": "code",
   "execution_count": 157,
   "id": "7ce2082f-052f-4e92-b050-511de2f8c49d",
   "metadata": {},
   "outputs": [],
   "source": [
    "from sklearn.preprocessing import LabelEncoder"
   ]
  },
  {
   "cell_type": "code",
   "execution_count": 159,
   "id": "e2029dcc-7854-414a-8fab-4fa3fb8f2aa9",
   "metadata": {
    "scrolled": true
   },
   "outputs": [
    {
     "data": {
      "text/plain": [
       "{'MSZoning': {'C (all)': 0, 'FV': 1, 'RH': 2, 'RL': 3, 'RM': 4},\n",
       " 'Street': {'Grvl': 0, 'Pave': 1},\n",
       " 'LotShape': {'IR1': 0, 'IR2': 1, 'IR3': 2, 'Reg': 3},\n",
       " 'LandContour': {'Bnk': 0, 'HLS': 1, 'Low': 2, 'Lvl': 3},\n",
       " 'Utilities': {'AllPub': 0, 'NoSeWa': 1},\n",
       " 'LotConfig': {'Corner': 0, 'CulDSac': 1, 'FR2': 2, 'FR3': 3, 'Inside': 4},\n",
       " 'LandSlope': {'Gtl': 0, 'Mod': 1, 'Sev': 2},\n",
       " 'Neighborhood': {'Blmngtn': 0,\n",
       "  'Blueste': 1,\n",
       "  'BrDale': 2,\n",
       "  'BrkSide': 3,\n",
       "  'ClearCr': 4,\n",
       "  'CollgCr': 5,\n",
       "  'Crawfor': 6,\n",
       "  'Edwards': 7,\n",
       "  'Gilbert': 8,\n",
       "  'IDOTRR': 9,\n",
       "  'MeadowV': 10,\n",
       "  'Mitchel': 11,\n",
       "  'NAmes': 12,\n",
       "  'NPkVill': 13,\n",
       "  'NWAmes': 14,\n",
       "  'NoRidge': 15,\n",
       "  'NridgHt': 16,\n",
       "  'OldTown': 17,\n",
       "  'SWISU': 18,\n",
       "  'Sawyer': 19,\n",
       "  'SawyerW': 20,\n",
       "  'Somerst': 21,\n",
       "  'StoneBr': 22,\n",
       "  'Timber': 23,\n",
       "  'Veenker': 24},\n",
       " 'Condition1': {'Artery': 0,\n",
       "  'Feedr': 1,\n",
       "  'Norm': 2,\n",
       "  'PosA': 3,\n",
       "  'PosN': 4,\n",
       "  'RRAe': 5,\n",
       "  'RRAn': 6,\n",
       "  'RRNe': 7,\n",
       "  'RRNn': 8},\n",
       " 'Condition2': {'Artery': 0,\n",
       "  'Feedr': 1,\n",
       "  'Norm': 2,\n",
       "  'PosA': 3,\n",
       "  'PosN': 4,\n",
       "  'RRAe': 5,\n",
       "  'RRAn': 6,\n",
       "  'RRNn': 7},\n",
       " 'BldgType': {'1Fam': 0, '2fmCon': 1, 'Duplex': 2, 'Twnhs': 3, 'TwnhsE': 4},\n",
       " 'HouseStyle': {'1.5Fin': 0,\n",
       "  '1.5Unf': 1,\n",
       "  '1Story': 2,\n",
       "  '2.5Fin': 3,\n",
       "  '2.5Unf': 4,\n",
       "  '2Story': 5,\n",
       "  'SFoyer': 6,\n",
       "  'SLvl': 7},\n",
       " 'RoofStyle': {'Flat': 0,\n",
       "  'Gable': 1,\n",
       "  'Gambrel': 2,\n",
       "  'Hip': 3,\n",
       "  'Mansard': 4,\n",
       "  'Shed': 5},\n",
       " 'RoofMatl': {'ClyTile': 0,\n",
       "  'CompShg': 1,\n",
       "  'Membran': 2,\n",
       "  'Metal': 3,\n",
       "  'Roll': 4,\n",
       "  'Tar&Grv': 5,\n",
       "  'WdShake': 6,\n",
       "  'WdShngl': 7},\n",
       " 'Exterior1st': {'AsbShng': 0,\n",
       "  'AsphShn': 1,\n",
       "  'BrkComm': 2,\n",
       "  'BrkFace': 3,\n",
       "  'CBlock': 4,\n",
       "  'CemntBd': 5,\n",
       "  'HdBoard': 6,\n",
       "  'ImStucc': 7,\n",
       "  'MetalSd': 8,\n",
       "  'Plywood': 9,\n",
       "  'Stone': 10,\n",
       "  'Stucco': 11,\n",
       "  'VinylSd': 12,\n",
       "  'Wd Sdng': 13,\n",
       "  'WdShing': 14},\n",
       " 'Exterior2nd': {'AsbShng': 0,\n",
       "  'AsphShn': 1,\n",
       "  'Brk Cmn': 2,\n",
       "  'BrkFace': 3,\n",
       "  'CBlock': 4,\n",
       "  'CmentBd': 5,\n",
       "  'HdBoard': 6,\n",
       "  'ImStucc': 7,\n",
       "  'MetalSd': 8,\n",
       "  'Other': 9,\n",
       "  'Plywood': 10,\n",
       "  'Stone': 11,\n",
       "  'Stucco': 12,\n",
       "  'VinylSd': 13,\n",
       "  'Wd Sdng': 14,\n",
       "  'Wd Shng': 15},\n",
       " 'MasVnrType': {'BrkCmn': 0, 'BrkFace': 1, 'Stone': 2},\n",
       " 'ExterQual': {'Ex': 0, 'Fa': 1, 'Gd': 2, 'TA': 3},\n",
       " 'ExterCond': {'Ex': 0, 'Fa': 1, 'Gd': 2, 'Po': 3, 'TA': 4},\n",
       " 'Foundation': {'BrkTil': 0,\n",
       "  'CBlock': 1,\n",
       "  'PConc': 2,\n",
       "  'Slab': 3,\n",
       "  'Stone': 4,\n",
       "  'Wood': 5},\n",
       " 'BsmtQual': {'Ex': 0, 'Fa': 1, 'Gd': 2, 'TA': 3},\n",
       " 'BsmtCond': {'Fa': 0, 'Gd': 1, 'Po': 2, 'TA': 3},\n",
       " 'BsmtExposure': {'Av': 0, 'Gd': 1, 'Mn': 2, 'No': 3},\n",
       " 'BsmtFinType1': {'ALQ': 0, 'BLQ': 1, 'GLQ': 2, 'LwQ': 3, 'Rec': 4, 'Unf': 5},\n",
       " 'BsmtFinType2': {'ALQ': 0, 'BLQ': 1, 'GLQ': 2, 'LwQ': 3, 'Rec': 4, 'Unf': 5},\n",
       " 'Heating': {'Floor': 0,\n",
       "  'GasA': 1,\n",
       "  'GasW': 2,\n",
       "  'Grav': 3,\n",
       "  'OthW': 4,\n",
       "  'Wall': 5},\n",
       " 'HeatingQC': {'Ex': 0, 'Fa': 1, 'Gd': 2, 'Po': 3, 'TA': 4},\n",
       " 'CentralAir': {'N': 0, 'Y': 1},\n",
       " 'Electrical': {'FuseA': 0, 'FuseF': 1, 'FuseP': 2, 'Mix': 3, 'SBrkr': 4},\n",
       " 'KitchenQual': {'Ex': 0, 'Fa': 1, 'Gd': 2, 'TA': 3},\n",
       " 'Functional': {'Maj1': 0,\n",
       "  'Maj2': 1,\n",
       "  'Min1': 2,\n",
       "  'Min2': 3,\n",
       "  'Mod': 4,\n",
       "  'Sev': 5,\n",
       "  'Typ': 6},\n",
       " 'FireplaceQu': {'Ex': 0, 'Fa': 1, 'Gd': 2, 'Po': 3, 'TA': 4},\n",
       " 'GarageType': {'2Types': 0,\n",
       "  'Attchd': 1,\n",
       "  'Basment': 2,\n",
       "  'BuiltIn': 3,\n",
       "  'CarPort': 4,\n",
       "  'Detchd': 5},\n",
       " 'GarageFinish': {'Fin': 0, 'RFn': 1, 'Unf': 2},\n",
       " 'GarageQual': {'Ex': 0, 'Fa': 1, 'Gd': 2, 'Po': 3, 'TA': 4},\n",
       " 'GarageCond': {'Ex': 0, 'Fa': 1, 'Gd': 2, 'Po': 3, 'TA': 4},\n",
       " 'PavedDrive': {'N': 0, 'P': 1, 'Y': 2},\n",
       " 'SaleType': {'COD': 0,\n",
       "  'CWD': 1,\n",
       "  'Con': 2,\n",
       "  'ConLD': 3,\n",
       "  'ConLI': 4,\n",
       "  'ConLw': 5,\n",
       "  'New': 6,\n",
       "  'Oth': 7,\n",
       "  'WD': 8},\n",
       " 'SaleCondition': {'Abnorml': 0,\n",
       "  'AdjLand': 1,\n",
       "  'Alloca': 2,\n",
       "  'Family': 3,\n",
       "  'Normal': 4,\n",
       "  'Partial': 5}}"
      ]
     },
     "execution_count": 159,
     "metadata": {},
     "output_type": "execute_result"
    }
   ],
   "source": [
    "label_mappings = {}\n",
    "\n",
    "\n",
    "for col in categorical_cols:\n",
    "    le = LabelEncoder()\n",
    "    train_df[col] = le.fit_transform(train_df[col])\n",
    "    \n",
    "    # Save mapping for each column\n",
    "    col_mapping = dict(zip(le.classes_, le.transform(le.classes_)))\n",
    "    label_mappings[col] = col_mapping\n",
    "\n",
    "label_mappings"
   ]
  },
  {
   "cell_type": "markdown",
   "id": "0a1e4f31-62c0-4454-aa21-e512dd4fcab4",
   "metadata": {},
   "source": [
    "## Outlier Detection and Handling"
   ]
  },
  {
   "cell_type": "code",
   "execution_count": null,
   "id": "eee04458-6fd2-4989-b78e-6e8c404dd26b",
   "metadata": {},
   "outputs": [],
   "source": [
    "import matplotlib.pyplot as plt\n",
    "import seaborn as sns"
   ]
  },
  {
   "cell_type": "code",
   "execution_count": 169,
   "id": "6589a648-b312-4cda-abec-2f924d29f019",
   "metadata": {},
   "outputs": [
    {
     "name": "stdout",
     "output_type": "stream",
     "text": [
      "MSSubClass: 103 outliers\n",
      "LotFrontage: 106 outliers\n",
      "LotArea: 69 outliers\n",
      "OverallQual: 2 outliers\n",
      "OverallCond: 125 outliers\n",
      "YearBuilt: 7 outliers\n",
      "MasVnrArea: 98 outliers\n",
      "BsmtFinSF1: 7 outliers\n",
      "BsmtFinSF2: 167 outliers\n",
      "BsmtUnfSF: 29 outliers\n",
      "TotalBsmtSF: 61 outliers\n",
      "1stFlrSF: 20 outliers\n",
      "2ndFlrSF: 2 outliers\n",
      "LowQualFinSF: 26 outliers\n",
      "GrLivArea: 31 outliers\n",
      "BsmtFullBath: 1 outliers\n",
      "BsmtHalfBath: 82 outliers\n",
      "BedroomAbvGr: 35 outliers\n",
      "KitchenAbvGr: 68 outliers\n",
      "TotRmsAbvGrd: 30 outliers\n",
      "Fireplaces: 5 outliers\n",
      "GarageYrBlt: 1 outliers\n",
      "GarageCars: 5 outliers\n",
      "GarageArea: 21 outliers\n",
      "WoodDeckSF: 32 outliers\n",
      "OpenPorchSF: 77 outliers\n",
      "EnclosedPorch: 208 outliers\n",
      "3SsnPorch: 24 outliers\n",
      "ScreenPorch: 116 outliers\n",
      "PoolArea: 7 outliers\n",
      "MiscVal: 52 outliers\n",
      "SalePrice: 61 outliers\n"
     ]
    }
   ],
   "source": [
    "for col in numerical_cols:\n",
    "    Q1 = train_df[col].quantile(0.25)\n",
    "    Q3 = train_df[col].quantile(0.75)\n",
    "    IQR = Q3 - Q1\n",
    "    lower = Q1 - 1.5 * IQR\n",
    "    upper = Q3 + 1.5 * IQR\n",
    "\n",
    "    outliers = train_df[(train_df[col] < lower) | (train_df[col] > upper)]\n",
    "    if not outliers.empty:\n",
    "        print(f\"{col}: {len(outliers)} outliers\")\n"
   ]
  },
  {
   "cell_type": "code",
   "execution_count": 164,
   "id": "3d6b1d6c-81ff-46ae-b18e-7a4a4e30366f",
   "metadata": {
    "scrolled": true
   },
   "outputs": [
    {
     "data": {
      "image/png": "[encoded data removed]",
      "text/plain": [
       "<Figure size 800x200 with 1 Axes>"
      ]
     },
     "metadata": {},
     "output_type": "display_data"
    },
    {
     "name": "stdout",
     "output_type": "stream",
     "text": [
      "---------------------------\n"
     ]
    },
    {
     "data": {
      "image/png": "[encoded data removed]",
      "text/plain": [
       "<Figure size 800x200 with 1 Axes>"
      ]
     },
     "metadata": {},
     "output_type": "display_data"
    },
    {
     "name": "stdout",
     "output_type": "stream",
     "text": [
      "---------------------------\n"
     ]
    },
    {
     "data": {
      "image/png": "[encoded data removed]",
      "text/plain": [
       "<Figure size 800x200 with 1 Axes>"
      ]
     },
     "metadata": {},
     "output_type": "display_data"
    },
    {
     "name": "stdout",
     "output_type": "stream",
     "text": [
      "---------------------------\n"
     ]
    },
    {
     "data": {
      "image/png": "[encoded data removed]",
      "text/plain": [
       "<Figure size 800x200 with 1 Axes>"
      ]
     },
     "metadata": {},
     "output_type": "display_data"
    },
    {
     "name": "stdout",
     "output_type": "stream",
     "text": [
      "---------------------------\n"
     ]
    },
    {
     "data": {
      "image/png": "[encoded data removed]",
      "text/plain": [
       "<Figure size 800x200 with 1 Axes>"
      ]
     },
     "metadata": {},
     "output_type": "display_data"
    },
    {
     "name": "stdout",
     "output_type": "stream",
     "text": [
      "---------------------------\n"
     ]
    },
    {
     "data": {
      "image/png": "[encoded data removed]",
      "text/plain": [
       "<Figure size 800x200 with 1 Axes>"
      ]
     },
     "metadata": {},
     "output_type": "display_data"
    },
    {
     "name": "stdout",
     "output_type": "stream",
     "text": [
      "---------------------------\n"
     ]
    },
    {
     "data": {
      "image/png": "[encoded data removed]",
      "text/plain": [
       "<Figure size 800x200 with 1 Axes>"
      ]
     },
     "metadata": {},
     "output_type": "display_data"
    },
    {
     "name": "stdout",
     "output_type": "stream",
     "text": [
      "---------------------------\n"
     ]
    },
    {
     "data": {
      "image/png": "[encoded data removed]",
      "text/plain": [
       "<Figure size 800x200 with 1 Axes>"
      ]
     },
     "metadata": {},
     "output_type": "display_data"
    },
    {
     "name": "stdout",
     "output_type": "stream",
     "text": [
      "---------------------------\n"
     ]
    },
    {
     "data": {
      "image/png": "[encoded data removed]",
      "text/plain": [
       "<Figure size 800x200 with 1 Axes>"
      ]
     },
     "metadata": {},
     "output_type": "display_data"
    },
    {
     "name": "stdout",
     "output_type": "stream",
     "text": [
      "---------------------------\n"
     ]
    },
    {
     "data": {
      "image/png": "[encoded data removed]",
      "text/plain": [
       "<Figure size 800x200 with 1 Axes>"
      ]
     },
     "metadata": {},
     "output_type": "display_data"
    },
    {
     "name": "stdout",
     "output_type": "stream",
     "text": [
      "---------------------------\n"
     ]
    },
    {
     "data": {
      "image/png": "[encoded data removed]",
      "text/plain": [
       "<Figure size 800x200 with 1 Axes>"
      ]
     },
     "metadata": {},
     "output_type": "display_data"
    },
    {
     "name": "stdout",
     "output_type": "stream",
     "text": [
      "---------------------------\n"
     ]
    },
    {
     "data": {
      "image/png": "[encoded data removed]",
      "text/plain": [
       "<Figure size 800x200 with 1 Axes>"
      ]
     },
     "metadata": {},
     "output_type": "display_data"
    },
    {
     "name": "stdout",
     "output_type": "stream",
     "text": [
      "---------------------------\n"
     ]
    },
    {
     "data": {
      "image/png": "[encoded data removed]",
      "text/plain": [
       "<Figure size 800x200 with 1 Axes>"
      ]
     },
     "metadata": {},
     "output_type": "display_data"
    },
    {
     "name": "stdout",
     "output_type": "stream",
     "text": [
      "---------------------------\n"
     ]
    },
    {
     "data": {
      "image/png": "[encoded data removed]",
      "text/plain": [
       "<Figure size 800x200 with 1 Axes>"
      ]
     },
     "metadata": {},
     "output_type": "display_data"
    },
    {
     "name": "stdout",
     "output_type": "stream",
     "text": [
      "---------------------------\n"
     ]
    },
    {
     "data": {
      "image/png": "[encoded data removed]",
      "text/plain": [
       "<Figure size 800x200 with 1 Axes>"
      ]
     },
     "metadata": {},
     "output_type": "display_data"
    },
    {
     "name": "stdout",
     "output_type": "stream",
     "text": [
      "---------------------------\n"
     ]
    },
    {
     "data": {
      "image/png": "[encoded data removed]",
      "text/plain": [
       "<Figure size 800x200 with 1 Axes>"
      ]
     },
     "metadata": {},
     "output_type": "display_data"
    },
    {
     "name": "stdout",
     "output_type": "stream",
     "text": [
      "---------------------------\n"
     ]
    },
    {
     "data": {
      "image/png": "[encoded data removed]",
      "text/plain": [
       "<Figure size 800x200 with 1 Axes>"
      ]
     },
     "metadata": {},
     "output_type": "display_data"
    },
    {
     "name": "stdout",
     "output_type": "stream",
     "text": [
      "---------------------------\n"
     ]
    },
    {
     "data": {
      "image/png": "[encoded data removed]",
      "text/plain": [
       "<Figure size 800x200 with 1 Axes>"
      ]
     },
     "metadata": {},
     "output_type": "display_data"
    },
    {
     "name": "stdout",
     "output_type": "stream",
     "text": [
      "---------------------------\n"
     ]
    },
    {
     "data": {
      "image/png": "[encoded data removed]",
      "text/plain": [
       "<Figure size 800x200 with 1 Axes>"
      ]
     },
     "metadata": {},
     "output_type": "display_data"
    },
    {
     "name": "stdout",
     "output_type": "stream",
     "text": [
      "---------------------------\n"
     ]
    },
    {
     "data": {
      "image/png": "[encoded data removed]",
      "text/plain": [
       "<Figure size 800x200 with 1 Axes>"
      ]
     },
     "metadata": {},
     "output_type": "display_data"
    },
    {
     "name": "stdout",
     "output_type": "stream",
     "text": [
      "---------------------------\n"
     ]
    },
    {
     "data": {
      "image/png": "[encoded data removed]",
      "text/plain": [
       "<Figure size 800x200 with 1 Axes>"
      ]
     },
     "metadata": {},
     "output_type": "display_data"
    },
    {
     "name": "stdout",
     "output_type": "stream",
     "text": [
      "---------------------------\n"
     ]
    },
    {
     "data": {
      "image/png": "[encoded data removed]",
      "text/plain": [
       "<Figure size 800x200 with 1 Axes>"
      ]
     },
     "metadata": {},
     "output_type": "display_data"
    },
    {
     "name": "stdout",
     "output_type": "stream",
     "text": [
      "---------------------------\n"
     ]
    },
    {
     "data": {
      "image/png": "[encoded data removed]",
      "text/plain": [
       "<Figure size 800x200 with 1 Axes>"
      ]
     },
     "metadata": {},
     "output_type": "display_data"
    },
    {
     "name": "stdout",
     "output_type": "stream",
     "text": [
      "---------------------------\n"
     ]
    },
    {
     "data": {
      "image/png": "[encoded data removed]",
      "text/plain": [
       "<Figure size 800x200 with 1 Axes>"
      ]
     },
     "metadata": {},
     "output_type": "display_data"
    },
    {
     "name": "stdout",
     "output_type": "stream",
     "text": [
      "---------------------------\n"
     ]
    },
    {
     "data": {
      "image/png": "[encoded data removed]",
      "text/plain": [
       "<Figure size 800x200 with 1 Axes>"
      ]
     },
     "metadata": {},
     "output_type": "display_data"
    },
    {
     "name": "stdout",
     "output_type": "stream",
     "text": [
      "---------------------------\n"
     ]
    },
    {
     "data": {
      "image/png": "[encoded data removed]",
      "text/plain": [
       "<Figure size 800x200 with 1 Axes>"
      ]
     },
     "metadata": {},
     "output_type": "display_data"
    },
    {
     "name": "stdout",
     "output_type": "stream",
     "text": [
      "---------------------------\n"
     ]
    },
    {
     "data": {
      "image/png": "[encoded data removed]",
      "text/plain": [
       "<Figure size 800x200 with 1 Axes>"
      ]
     },
     "metadata": {},
     "output_type": "display_data"
    },
    {
     "name": "stdout",
     "output_type": "stream",
     "text": [
      "---------------------------\n"
     ]
    },
    {
     "data": {
      "image/png": "[encoded data removed]",
      "text/plain": [
       "<Figure size 800x200 with 1 Axes>"
      ]
     },
     "metadata": {},
     "output_type": "display_data"
    },
    {
     "name": "stdout",
     "output_type": "stream",
     "text": [
      "---------------------------\n"
     ]
    },
    {
     "data": {
      "image/png": "[encoded data removed]",
      "text/plain": [
       "<Figure size 800x200 with 1 Axes>"
      ]
     },
     "metadata": {},
     "output_type": "display_data"
    },
    {
     "name": "stdout",
     "output_type": "stream",
     "text": [
      "---------------------------\n"
     ]
    },
    {
     "data": {
      "image/png": "[encoded data removed]",
      "text/plain": [
       "<Figure size 800x200 with 1 Axes>"
      ]
     },
     "metadata": {},
     "output_type": "display_data"
    },
    {
     "name": "stdout",
     "output_type": "stream",
     "text": [
      "---------------------------\n"
     ]
    },
    {
     "data": {
      "image/png": "[encoded data removed]",
      "text/plain": [
       "<Figure size 800x200 with 1 Axes>"
      ]
     },
     "metadata": {},
     "output_type": "display_data"
    },
    {
     "name": "stdout",
     "output_type": "stream",
     "text": [
      "---------------------------\n"
     ]
    },
    {
     "data": {
      "image/png": "[encoded data removed]",
      "text/plain": [
       "<Figure size 800x200 with 1 Axes>"
      ]
     },
     "metadata": {},
     "output_type": "display_data"
    },
    {
     "name": "stdout",
     "output_type": "stream",
     "text": [
      "---------------------------\n"
     ]
    },
    {
     "data": {
      "image/png": "[encoded data removed]",
      "text/plain": [
       "<Figure size 800x200 with 1 Axes>"
      ]
     },
     "metadata": {},
     "output_type": "display_data"
    },
    {
     "name": "stdout",
     "output_type": "stream",
     "text": [
      "---------------------------\n"
     ]
    },
    {
     "data": {
      "image/png": "[encoded data removed]",
      "text/plain": [
       "<Figure size 800x200 with 1 Axes>"
      ]
     },
     "metadata": {},
     "output_type": "display_data"
    },
    {
     "name": "stdout",
     "output_type": "stream",
     "text": [
      "---------------------------\n"
     ]
    },
    {
     "data": {
      "image/png": "[encoded data removed]",
      "text/plain": [
       "<Figure size 800x200 with 1 Axes>"
      ]
     },
     "metadata": {},
     "output_type": "display_data"
    },
    {
     "name": "stdout",
     "output_type": "stream",
     "text": [
      "---------------------------\n"
     ]
    },
    {
     "data": {
      "image/png": "[encoded data removed]",
      "text/plain": [
       "<Figure size 800x200 with 1 Axes>"
      ]
     },
     "metadata": {},
     "output_type": "display_data"
    },
    {
     "name": "stdout",
     "output_type": "stream",
     "text": [
      "---------------------------\n"
     ]
    },
    {
     "data": {
      "image/png": "[encoded data removed]",
      "text/plain": [
       "<Figure size 800x200 with 1 Axes>"
      ]
     },
     "metadata": {},
     "output_type": "display_data"
    },
    {
     "name": "stdout",
     "output_type": "stream",
     "text": [
      "---------------------------\n"
     ]
    },
    {
     "data": {
      "image/png": "[encoded data removed]",
      "text/plain": [
       "<Figure size 800x200 with 1 Axes>"
      ]
     },
     "metadata": {},
     "output_type": "display_data"
    },
    {
     "name": "stdout",
     "output_type": "stream",
     "text": [
      "---------------------------\n"
     ]
    }
   ],
   "source": [
    "for col in numerical_cols:\n",
    "    plt.figure(figsize=(8, 2))\n",
    "    sns.boxplot(x=train_df[col])\n",
    "    plt.title(f'Boxplot of {col}')\n",
    "    plt.show()\n",
    "    print(\"---------------------------\")\n"
   ]
  },
  {
   "cell_type": "code",
   "execution_count": 171,
   "id": "5c81de30-c0db-416d-8036-16de19c34c62",
   "metadata": {},
   "outputs": [],
   "source": [
    "#Capping Outliers Uning IQR\n",
    "for col in numerical_cols:\n",
    "    Q1 = train_df[col].quantile(0.25)\n",
    "    Q3 = train_df[col].quantile(0.75)\n",
    "    IQR = Q3 - Q1\n",
    "    lower = Q1 - 1.5 * IQR\n",
    "    upper = Q3 + 1.5 * IQR\n",
    "\n",
    "    train_df[col] = train_df[col].clip(lower, upper)\n"
   ]
  },
  {
   "cell_type": "code",
   "execution_count": 173,
   "id": "54807a43-9e69-4912-936e-2921fb55cfb4",
   "metadata": {},
   "outputs": [],
   "source": [
    "#checking outliers again\n",
    "for col in numerical_cols:\n",
    "    Q1 = train_df[col].quantile(0.25)\n",
    "    Q3 = train_df[col].quantile(0.75)\n",
    "    IQR = Q3 - Q1\n",
    "    lower = Q1 - 1.5 * IQR\n",
    "    upper = Q3 + 1.5 * IQR\n",
    "\n",
    "    outliers = train_df[(train_df[col] < lower) | (train_df[col] > upper)]\n",
    "    if not outliers.empty:\n",
    "        print(f\"{col}: {len(outliers)} outliers\")\n"
   ]
  },
  {
   "cell_type": "code",
   "execution_count": null,
   "id": "4ed601b5-8f5b-4130-bc33-f0167b9563be",
   "metadata": {},
   "outputs": [],
   "source": []
  },
  {
   "cell_type": "markdown",
   "id": "62cda6b7-5c17-489a-8eda-d2c3297bdaa7",
   "metadata": {},
   "source": [
    "## Remove unnecessary columns "
   ]
  },
  {
   "cell_type": "code",
   "execution_count": 185,
   "id": "289ed7c6-2523-4756-90bf-da3bf38639aa",
   "metadata": {},
   "outputs": [
    {
     "data": {
      "text/plain": [
       "1460"
      ]
     },
     "execution_count": 185,
     "metadata": {},
     "output_type": "execute_result"
    }
   ],
   "source": [
    "train_df['Id'].nunique()"
   ]
  },
  {
   "cell_type": "code",
   "execution_count": 187,
   "id": "cd18a5f1-85be-484e-9bcc-47c4ec422c7d",
   "metadata": {},
   "outputs": [
    {
     "data": {
      "text/html": [
       "<div>\n",
       "<style scoped>\n",
       "    .dataframe tbody tr th:only-of-type {\n",
       "        vertical-align: middle;\n",
       "    }\n",
       "\n",
       "    .dataframe tbody tr th {\n",
       "        vertical-align: top;\n",
       "    }\n",
       "\n",
       "    .dataframe thead th {\n",
       "        text-align: right;\n",
       "    }\n",
       "</style>\n",
       "<table border=\"1\" class=\"dataframe\">\n",
       "  <thead>\n",
       "    <tr style=\"text-align: right;\">\n",
       "      <th></th>\n",
       "      <th>MSSubClass</th>\n",
       "      <th>MSZoning</th>\n",
       "      <th>LotFrontage</th>\n",
       "      <th>LotArea</th>\n",
       "      <th>Street</th>\n",
       "      <th>LotShape</th>\n",
       "      <th>LandContour</th>\n",
       "      <th>Utilities</th>\n",
       "      <th>LotConfig</th>\n",
       "      <th>LandSlope</th>\n",
       "      <th>...</th>\n",
       "      <th>EnclosedPorch</th>\n",
       "      <th>3SsnPorch</th>\n",
       "      <th>ScreenPorch</th>\n",
       "      <th>PoolArea</th>\n",
       "      <th>MiscVal</th>\n",
       "      <th>MoSold</th>\n",
       "      <th>YrSold</th>\n",
       "      <th>SaleType</th>\n",
       "      <th>SaleCondition</th>\n",
       "      <th>SalePrice</th>\n",
       "    </tr>\n",
       "  </thead>\n",
       "  <tbody>\n",
       "    <tr>\n",
       "      <th>0</th>\n",
       "      <td>60</td>\n",
       "      <td>3</td>\n",
       "      <td>65.0</td>\n",
       "      <td>8450.0</td>\n",
       "      <td>1</td>\n",
       "      <td>3</td>\n",
       "      <td>3</td>\n",
       "      <td>0</td>\n",
       "      <td>4</td>\n",
       "      <td>0</td>\n",
       "      <td>...</td>\n",
       "      <td>0</td>\n",
       "      <td>0</td>\n",
       "      <td>0</td>\n",
       "      <td>0</td>\n",
       "      <td>0</td>\n",
       "      <td>2</td>\n",
       "      <td>2008</td>\n",
       "      <td>8</td>\n",
       "      <td>4</td>\n",
       "      <td>208500.0</td>\n",
       "    </tr>\n",
       "    <tr>\n",
       "      <th>1</th>\n",
       "      <td>20</td>\n",
       "      <td>3</td>\n",
       "      <td>80.0</td>\n",
       "      <td>9600.0</td>\n",
       "      <td>1</td>\n",
       "      <td>3</td>\n",
       "      <td>3</td>\n",
       "      <td>0</td>\n",
       "      <td>2</td>\n",
       "      <td>0</td>\n",
       "      <td>...</td>\n",
       "      <td>0</td>\n",
       "      <td>0</td>\n",
       "      <td>0</td>\n",
       "      <td>0</td>\n",
       "      <td>0</td>\n",
       "      <td>5</td>\n",
       "      <td>2007</td>\n",
       "      <td>8</td>\n",
       "      <td>4</td>\n",
       "      <td>181500.0</td>\n",
       "    </tr>\n",
       "    <tr>\n",
       "      <th>2</th>\n",
       "      <td>60</td>\n",
       "      <td>3</td>\n",
       "      <td>68.0</td>\n",
       "      <td>11250.0</td>\n",
       "      <td>1</td>\n",
       "      <td>0</td>\n",
       "      <td>3</td>\n",
       "      <td>0</td>\n",
       "      <td>4</td>\n",
       "      <td>0</td>\n",
       "      <td>...</td>\n",
       "      <td>0</td>\n",
       "      <td>0</td>\n",
       "      <td>0</td>\n",
       "      <td>0</td>\n",
       "      <td>0</td>\n",
       "      <td>9</td>\n",
       "      <td>2008</td>\n",
       "      <td>8</td>\n",
       "      <td>4</td>\n",
       "      <td>223500.0</td>\n",
       "    </tr>\n",
       "    <tr>\n",
       "      <th>3</th>\n",
       "      <td>70</td>\n",
       "      <td>3</td>\n",
       "      <td>60.0</td>\n",
       "      <td>9550.0</td>\n",
       "      <td>1</td>\n",
       "      <td>0</td>\n",
       "      <td>3</td>\n",
       "      <td>0</td>\n",
       "      <td>0</td>\n",
       "      <td>0</td>\n",
       "      <td>...</td>\n",
       "      <td>0</td>\n",
       "      <td>0</td>\n",
       "      <td>0</td>\n",
       "      <td>0</td>\n",
       "      <td>0</td>\n",
       "      <td>2</td>\n",
       "      <td>2006</td>\n",
       "      <td>8</td>\n",
       "      <td>0</td>\n",
       "      <td>140000.0</td>\n",
       "    </tr>\n",
       "    <tr>\n",
       "      <th>4</th>\n",
       "      <td>60</td>\n",
       "      <td>3</td>\n",
       "      <td>84.0</td>\n",
       "      <td>14260.0</td>\n",
       "      <td>1</td>\n",
       "      <td>0</td>\n",
       "      <td>3</td>\n",
       "      <td>0</td>\n",
       "      <td>2</td>\n",
       "      <td>0</td>\n",
       "      <td>...</td>\n",
       "      <td>0</td>\n",
       "      <td>0</td>\n",
       "      <td>0</td>\n",
       "      <td>0</td>\n",
       "      <td>0</td>\n",
       "      <td>12</td>\n",
       "      <td>2008</td>\n",
       "      <td>8</td>\n",
       "      <td>4</td>\n",
       "      <td>250000.0</td>\n",
       "    </tr>\n",
       "  </tbody>\n",
       "</table>\n",
       "<p>5 rows × 76 columns</p>\n",
       "</div>"
      ],
      "text/plain": [
       "   MSSubClass  MSZoning  LotFrontage  LotArea  Street  LotShape  LandContour  \\\n",
       "0          60         3         65.0   8450.0       1         3            3   \n",
       "1          20         3         80.0   9600.0       1         3            3   \n",
       "2          60         3         68.0  11250.0       1         0            3   \n",
       "3          70         3         60.0   9550.0       1         0            3   \n",
       "4          60         3         84.0  14260.0       1         0            3   \n",
       "\n",
       "   Utilities  LotConfig  LandSlope  ...  EnclosedPorch  3SsnPorch  \\\n",
       "0          0          4          0  ...              0          0   \n",
       "1          0          2          0  ...              0          0   \n",
       "2          0          4          0  ...              0          0   \n",
       "3          0          0          0  ...              0          0   \n",
       "4          0          2          0  ...              0          0   \n",
       "\n",
       "   ScreenPorch  PoolArea  MiscVal  MoSold  YrSold  SaleType  SaleCondition  \\\n",
       "0            0         0        0       2    2008         8              4   \n",
       "1            0         0        0       5    2007         8              4   \n",
       "2            0         0        0       9    2008         8              4   \n",
       "3            0         0        0       2    2006         8              0   \n",
       "4            0         0        0      12    2008         8              4   \n",
       "\n",
       "   SalePrice  \n",
       "0   208500.0  \n",
       "1   181500.0  \n",
       "2   223500.0  \n",
       "3   140000.0  \n",
       "4   250000.0  \n",
       "\n",
       "[5 rows x 76 columns]"
      ]
     },
     "execution_count": 187,
     "metadata": {},
     "output_type": "execute_result"
    }
   ],
   "source": [
    "#lets drop the Id column as it is not that helpful for the model\n",
    "train_df = train_df.drop(columns = 'Id')\n",
    "train_df.head()"
   ]
  },
  {
   "cell_type": "code",
   "execution_count": 192,
   "id": "cf54c797-4860-431f-adae-e9a4924be8ab",
   "metadata": {},
   "outputs": [
    {
     "data": {
      "text/plain": [
       "Index(['MSSubClass', 'MSZoning', 'LotFrontage', 'LotArea', 'Street',\n",
       "       'LotShape', 'LandContour', 'Utilities', 'LotConfig', 'LandSlope',\n",
       "       'Neighborhood', 'Condition1', 'Condition2', 'BldgType', 'HouseStyle',\n",
       "       'OverallQual', 'OverallCond', 'YearBuilt', 'YearRemodAdd', 'RoofStyle',\n",
       "       'RoofMatl', 'Exterior1st', 'Exterior2nd', 'MasVnrType', 'MasVnrArea',\n",
       "       'ExterQual', 'ExterCond', 'Foundation', 'BsmtQual', 'BsmtCond',\n",
       "       'BsmtExposure', 'BsmtFinType1', 'BsmtFinSF1', 'BsmtFinType2',\n",
       "       'BsmtFinSF2', 'BsmtUnfSF', 'TotalBsmtSF', 'Heating', 'HeatingQC',\n",
       "       'CentralAir', 'Electrical', '1stFlrSF', '2ndFlrSF', 'LowQualFinSF',\n",
       "       'GrLivArea', 'BsmtFullBath', 'BsmtHalfBath', 'FullBath', 'HalfBath',\n",
       "       'BedroomAbvGr', 'KitchenAbvGr', 'KitchenQual', 'TotRmsAbvGrd',\n",
       "       'Functional', 'Fireplaces', 'FireplaceQu', 'GarageType', 'GarageYrBlt',\n",
       "       'GarageFinish', 'GarageCars', 'GarageArea', 'GarageQual', 'GarageCond',\n",
       "       'PavedDrive', 'WoodDeckSF', 'OpenPorchSF', 'EnclosedPorch', '3SsnPorch',\n",
       "       'ScreenPorch', 'PoolArea', 'MiscVal', 'MoSold', 'YrSold', 'SaleType',\n",
       "       'SaleCondition', 'SalePrice'],\n",
       "      dtype='object')"
      ]
     },
     "execution_count": 192,
     "metadata": {},
     "output_type": "execute_result"
    }
   ],
   "source": [
    "train_df.columns"
   ]
  },
  {
   "cell_type": "markdown",
   "id": "630f8ba2-55a2-43fa-9511-a85484693934",
   "metadata": {},
   "source": [
    "## Feature Engineering"
   ]
  },
  {
   "cell_type": "code",
   "execution_count": 204,
   "id": "32f29525-ae9c-475d-bac8-0b43dc4ecb32",
   "metadata": {},
   "outputs": [
    {
     "data": {
      "text/html": [
       "<div>\n",
       "<style scoped>\n",
       "    .dataframe tbody tr th:only-of-type {\n",
       "        vertical-align: middle;\n",
       "    }\n",
       "\n",
       "    .dataframe tbody tr th {\n",
       "        vertical-align: top;\n",
       "    }\n",
       "\n",
       "    .dataframe thead th {\n",
       "        text-align: right;\n",
       "    }\n",
       "</style>\n",
       "<table border=\"1\" class=\"dataframe\">\n",
       "  <thead>\n",
       "    <tr style=\"text-align: right;\">\n",
       "      <th></th>\n",
       "      <th>MSSubClass</th>\n",
       "      <th>MSZoning</th>\n",
       "      <th>LotFrontage</th>\n",
       "      <th>LotArea</th>\n",
       "      <th>Street</th>\n",
       "      <th>LotShape</th>\n",
       "      <th>LandContour</th>\n",
       "      <th>Utilities</th>\n",
       "      <th>LotConfig</th>\n",
       "      <th>LandSlope</th>\n",
       "      <th>...</th>\n",
       "      <th>PoolArea</th>\n",
       "      <th>MiscVal</th>\n",
       "      <th>MoSold</th>\n",
       "      <th>YrSold</th>\n",
       "      <th>SaleType</th>\n",
       "      <th>SaleCondition</th>\n",
       "      <th>SalePrice</th>\n",
       "      <th>TotalSF</th>\n",
       "      <th>HouseAge</th>\n",
       "      <th>RemodAge</th>\n",
       "    </tr>\n",
       "  </thead>\n",
       "  <tbody>\n",
       "    <tr>\n",
       "      <th>0</th>\n",
       "      <td>60</td>\n",
       "      <td>3</td>\n",
       "      <td>65.0</td>\n",
       "      <td>8450.0</td>\n",
       "      <td>1</td>\n",
       "      <td>3</td>\n",
       "      <td>3</td>\n",
       "      <td>0</td>\n",
       "      <td>4</td>\n",
       "      <td>0</td>\n",
       "      <td>...</td>\n",
       "      <td>0</td>\n",
       "      <td>0</td>\n",
       "      <td>2</td>\n",
       "      <td>2008</td>\n",
       "      <td>8</td>\n",
       "      <td>4</td>\n",
       "      <td>208500.0</td>\n",
       "      <td>2566.0</td>\n",
       "      <td>5</td>\n",
       "      <td>5</td>\n",
       "    </tr>\n",
       "    <tr>\n",
       "      <th>1</th>\n",
       "      <td>20</td>\n",
       "      <td>3</td>\n",
       "      <td>80.0</td>\n",
       "      <td>9600.0</td>\n",
       "      <td>1</td>\n",
       "      <td>3</td>\n",
       "      <td>3</td>\n",
       "      <td>0</td>\n",
       "      <td>2</td>\n",
       "      <td>0</td>\n",
       "      <td>...</td>\n",
       "      <td>0</td>\n",
       "      <td>0</td>\n",
       "      <td>5</td>\n",
       "      <td>2007</td>\n",
       "      <td>8</td>\n",
       "      <td>4</td>\n",
       "      <td>181500.0</td>\n",
       "      <td>2524.0</td>\n",
       "      <td>31</td>\n",
       "      <td>31</td>\n",
       "    </tr>\n",
       "    <tr>\n",
       "      <th>2</th>\n",
       "      <td>60</td>\n",
       "      <td>3</td>\n",
       "      <td>68.0</td>\n",
       "      <td>11250.0</td>\n",
       "      <td>1</td>\n",
       "      <td>0</td>\n",
       "      <td>3</td>\n",
       "      <td>0</td>\n",
       "      <td>4</td>\n",
       "      <td>0</td>\n",
       "      <td>...</td>\n",
       "      <td>0</td>\n",
       "      <td>0</td>\n",
       "      <td>9</td>\n",
       "      <td>2008</td>\n",
       "      <td>8</td>\n",
       "      <td>4</td>\n",
       "      <td>223500.0</td>\n",
       "      <td>2706.0</td>\n",
       "      <td>7</td>\n",
       "      <td>6</td>\n",
       "    </tr>\n",
       "    <tr>\n",
       "      <th>3</th>\n",
       "      <td>70</td>\n",
       "      <td>3</td>\n",
       "      <td>60.0</td>\n",
       "      <td>9550.0</td>\n",
       "      <td>1</td>\n",
       "      <td>0</td>\n",
       "      <td>3</td>\n",
       "      <td>0</td>\n",
       "      <td>0</td>\n",
       "      <td>0</td>\n",
       "      <td>...</td>\n",
       "      <td>0</td>\n",
       "      <td>0</td>\n",
       "      <td>2</td>\n",
       "      <td>2006</td>\n",
       "      <td>8</td>\n",
       "      <td>0</td>\n",
       "      <td>140000.0</td>\n",
       "      <td>2473.0</td>\n",
       "      <td>91</td>\n",
       "      <td>36</td>\n",
       "    </tr>\n",
       "    <tr>\n",
       "      <th>4</th>\n",
       "      <td>60</td>\n",
       "      <td>3</td>\n",
       "      <td>84.0</td>\n",
       "      <td>14260.0</td>\n",
       "      <td>1</td>\n",
       "      <td>0</td>\n",
       "      <td>3</td>\n",
       "      <td>0</td>\n",
       "      <td>2</td>\n",
       "      <td>0</td>\n",
       "      <td>...</td>\n",
       "      <td>0</td>\n",
       "      <td>0</td>\n",
       "      <td>12</td>\n",
       "      <td>2008</td>\n",
       "      <td>8</td>\n",
       "      <td>4</td>\n",
       "      <td>250000.0</td>\n",
       "      <td>3343.0</td>\n",
       "      <td>8</td>\n",
       "      <td>8</td>\n",
       "    </tr>\n",
       "  </tbody>\n",
       "</table>\n",
       "<p>5 rows × 79 columns</p>\n",
       "</div>"
      ],
      "text/plain": [
       "   MSSubClass  MSZoning  LotFrontage  LotArea  Street  LotShape  LandContour  \\\n",
       "0          60         3         65.0   8450.0       1         3            3   \n",
       "1          20         3         80.0   9600.0       1         3            3   \n",
       "2          60         3         68.0  11250.0       1         0            3   \n",
       "3          70         3         60.0   9550.0       1         0            3   \n",
       "4          60         3         84.0  14260.0       1         0            3   \n",
       "\n",
       "   Utilities  LotConfig  LandSlope  ...  PoolArea  MiscVal  MoSold  YrSold  \\\n",
       "0          0          4          0  ...         0        0       2    2008   \n",
       "1          0          2          0  ...         0        0       5    2007   \n",
       "2          0          4          0  ...         0        0       9    2008   \n",
       "3          0          0          0  ...         0        0       2    2006   \n",
       "4          0          2          0  ...         0        0      12    2008   \n",
       "\n",
       "   SaleType  SaleCondition  SalePrice  TotalSF  HouseAge  RemodAge  \n",
       "0         8              4   208500.0   2566.0         5         5  \n",
       "1         8              4   181500.0   2524.0        31        31  \n",
       "2         8              4   223500.0   2706.0         7         6  \n",
       "3         8              0   140000.0   2473.0        91        36  \n",
       "4         8              4   250000.0   3343.0         8         8  \n",
       "\n",
       "[5 rows x 79 columns]"
      ]
     },
     "execution_count": 204,
     "metadata": {},
     "output_type": "execute_result"
    }
   ],
   "source": [
    "# Total square footage\n",
    "train_df['TotalSF'] = train_df['TotalBsmtSF'] + train_df['1stFlrSF'] + train_df['2ndFlrSF']\n",
    "\n",
    "# Age of the house\n",
    "train_df['HouseAge'] = train_df['YrSold'] - train_df['YearBuilt']\n",
    "\n",
    "# Age since remodeling\n",
    "train_df['RemodAge'] = train_df['YrSold'] - train_df['YearRemodAdd']\n",
    "\n",
    "train_df.head()"
   ]
  },
  {
   "cell_type": "markdown",
   "id": "c2c9f2b2-2d92-41cd-89b1-d57c86bc72eb",
   "metadata": {},
   "source": []
  },
  {
   "cell_type": "markdown",
   "id": "6ffac8de-fdc1-4681-b201-3f81eb6b1156",
   "metadata": {},
   "source": [
    "## Standardisation"
   ]
  },
  {
   "cell_type": "code",
   "execution_count": 206,
   "id": "9e8f85c7-4d19-45d4-8e89-9af740769897",
   "metadata": {},
   "outputs": [],
   "source": [
    "from sklearn.preprocessing import StandardScaler"
   ]
  },
  {
   "cell_type": "code",
   "execution_count": 208,
   "id": "ccc83c20-5fa8-4222-9418-a01d154cfc35",
   "metadata": {},
   "outputs": [],
   "source": [
    "scaler = StandardScaler()\n",
    "scaled_cols = train_df.select_dtypes(include=['float64', 'int64']).columns.drop('SalePrice')\n",
    "\n",
    "train_df[scaled_cols] = scaler.fit_transform(train_df[scaled_cols])"
   ]
  },
  {
   "cell_type": "code",
   "execution_count": 210,
   "id": "89aa81af-aa9d-45a7-9657-583c1e063af4",
   "metadata": {},
   "outputs": [
    {
     "data": {
      "text/html": [
       "<div>\n",
       "<style scoped>\n",
       "    .dataframe tbody tr th:only-of-type {\n",
       "        vertical-align: middle;\n",
       "    }\n",
       "\n",
       "    .dataframe tbody tr th {\n",
       "        vertical-align: top;\n",
       "    }\n",
       "\n",
       "    .dataframe thead th {\n",
       "        text-align: right;\n",
       "    }\n",
       "</style>\n",
       "<table border=\"1\" class=\"dataframe\">\n",
       "  <thead>\n",
       "    <tr style=\"text-align: right;\">\n",
       "      <th></th>\n",
       "      <th>MSSubClass</th>\n",
       "      <th>MSZoning</th>\n",
       "      <th>LotFrontage</th>\n",
       "      <th>LotArea</th>\n",
       "      <th>Street</th>\n",
       "      <th>LotShape</th>\n",
       "      <th>LandContour</th>\n",
       "      <th>Utilities</th>\n",
       "      <th>LotConfig</th>\n",
       "      <th>LandSlope</th>\n",
       "      <th>...</th>\n",
       "      <th>PoolArea</th>\n",
       "      <th>MiscVal</th>\n",
       "      <th>MoSold</th>\n",
       "      <th>YrSold</th>\n",
       "      <th>SaleType</th>\n",
       "      <th>SaleCondition</th>\n",
       "      <th>SalePrice</th>\n",
       "      <th>TotalSF</th>\n",
       "      <th>HouseAge</th>\n",
       "      <th>RemodAge</th>\n",
       "    </tr>\n",
       "  </thead>\n",
       "  <tbody>\n",
       "    <tr>\n",
       "      <th>0</th>\n",
       "      <td>0.131067</td>\n",
       "      <td>-0.045532</td>\n",
       "      <td>-0.237456</td>\n",
       "      <td>-0.333244</td>\n",
       "      <td>0.064238</td>\n",
       "      <td>0.750731</td>\n",
       "      <td>0.314667</td>\n",
       "      <td>-0.02618</td>\n",
       "      <td>0.604670</td>\n",
       "      <td>-0.225716</td>\n",
       "      <td>...</td>\n",
       "      <td>0.0</td>\n",
       "      <td>0.0</td>\n",
       "      <td>-1.599111</td>\n",
       "      <td>0.138777</td>\n",
       "      <td>0.313867</td>\n",
       "      <td>0.208502</td>\n",
       "      <td>208500.0</td>\n",
       "      <td>0.015826</td>\n",
       "      <td>-1.045496</td>\n",
       "      <td>-0.869941</td>\n",
       "    </tr>\n",
       "    <tr>\n",
       "      <th>1</th>\n",
       "      <td>-0.935733</td>\n",
       "      <td>-0.045532</td>\n",
       "      <td>0.633321</td>\n",
       "      <td>-0.013189</td>\n",
       "      <td>0.064238</td>\n",
       "      <td>0.750731</td>\n",
       "      <td>0.314667</td>\n",
       "      <td>-0.02618</td>\n",
       "      <td>-0.628316</td>\n",
       "      <td>-0.225716</td>\n",
       "      <td>...</td>\n",
       "      <td>0.0</td>\n",
       "      <td>0.0</td>\n",
       "      <td>-0.489110</td>\n",
       "      <td>-0.614439</td>\n",
       "      <td>0.313867</td>\n",
       "      <td>0.208502</td>\n",
       "      <td>181500.0</td>\n",
       "      <td>-0.039853</td>\n",
       "      <td>-0.182997</td>\n",
       "      <td>0.390141</td>\n",
       "    </tr>\n",
       "    <tr>\n",
       "      <th>2</th>\n",
       "      <td>0.131067</td>\n",
       "      <td>-0.045532</td>\n",
       "      <td>-0.063300</td>\n",
       "      <td>0.446022</td>\n",
       "      <td>0.064238</td>\n",
       "      <td>-1.378933</td>\n",
       "      <td>0.314667</td>\n",
       "      <td>-0.02618</td>\n",
       "      <td>0.604670</td>\n",
       "      <td>-0.225716</td>\n",
       "      <td>...</td>\n",
       "      <td>0.0</td>\n",
       "      <td>0.0</td>\n",
       "      <td>0.990891</td>\n",
       "      <td>0.138777</td>\n",
       "      <td>0.313867</td>\n",
       "      <td>0.208502</td>\n",
       "      <td>223500.0</td>\n",
       "      <td>0.201422</td>\n",
       "      <td>-0.979149</td>\n",
       "      <td>-0.821476</td>\n",
       "    </tr>\n",
       "    <tr>\n",
       "      <th>3</th>\n",
       "      <td>0.397766</td>\n",
       "      <td>-0.045532</td>\n",
       "      <td>-0.527714</td>\n",
       "      <td>-0.027104</td>\n",
       "      <td>0.064238</td>\n",
       "      <td>-1.378933</td>\n",
       "      <td>0.314667</td>\n",
       "      <td>-0.02618</td>\n",
       "      <td>-1.861302</td>\n",
       "      <td>-0.225716</td>\n",
       "      <td>...</td>\n",
       "      <td>0.0</td>\n",
       "      <td>0.0</td>\n",
       "      <td>-1.599111</td>\n",
       "      <td>-1.367655</td>\n",
       "      <td>0.313867</td>\n",
       "      <td>-3.426284</td>\n",
       "      <td>140000.0</td>\n",
       "      <td>-0.107463</td>\n",
       "      <td>1.807384</td>\n",
       "      <td>0.632464</td>\n",
       "    </tr>\n",
       "    <tr>\n",
       "      <th>4</th>\n",
       "      <td>0.131067</td>\n",
       "      <td>-0.045532</td>\n",
       "      <td>0.865528</td>\n",
       "      <td>1.283733</td>\n",
       "      <td>0.064238</td>\n",
       "      <td>-1.378933</td>\n",
       "      <td>0.314667</td>\n",
       "      <td>-0.02618</td>\n",
       "      <td>-0.628316</td>\n",
       "      <td>-0.225716</td>\n",
       "      <td>...</td>\n",
       "      <td>0.0</td>\n",
       "      <td>0.0</td>\n",
       "      <td>2.100892</td>\n",
       "      <td>0.138777</td>\n",
       "      <td>0.313867</td>\n",
       "      <td>0.208502</td>\n",
       "      <td>250000.0</td>\n",
       "      <td>1.045884</td>\n",
       "      <td>-0.945976</td>\n",
       "      <td>-0.724547</td>\n",
       "    </tr>\n",
       "  </tbody>\n",
       "</table>\n",
       "<p>5 rows × 79 columns</p>\n",
       "</div>"
      ],
      "text/plain": [
       "   MSSubClass  MSZoning  LotFrontage   LotArea    Street  LotShape  \\\n",
       "0    0.131067 -0.045532    -0.237456 -0.333244  0.064238  0.750731   \n",
       "1   -0.935733 -0.045532     0.633321 -0.013189  0.064238  0.750731   \n",
       "2    0.131067 -0.045532    -0.063300  0.446022  0.064238 -1.378933   \n",
       "3    0.397766 -0.045532    -0.527714 -0.027104  0.064238 -1.378933   \n",
       "4    0.131067 -0.045532     0.865528  1.283733  0.064238 -1.378933   \n",
       "\n",
       "   LandContour  Utilities  LotConfig  LandSlope  ...  PoolArea  MiscVal  \\\n",
       "0     0.314667   -0.02618   0.604670  -0.225716  ...       0.0      0.0   \n",
       "1     0.314667   -0.02618  -0.628316  -0.225716  ...       0.0      0.0   \n",
       "2     0.314667   -0.02618   0.604670  -0.225716  ...       0.0      0.0   \n",
       "3     0.314667   -0.02618  -1.861302  -0.225716  ...       0.0      0.0   \n",
       "4     0.314667   -0.02618  -0.628316  -0.225716  ...       0.0      0.0   \n",
       "\n",
       "     MoSold    YrSold  SaleType  SaleCondition  SalePrice   TotalSF  HouseAge  \\\n",
       "0 -1.599111  0.138777  0.313867       0.208502   208500.0  0.015826 -1.045496   \n",
       "1 -0.489110 -0.614439  0.313867       0.208502   181500.0 -0.039853 -0.182997   \n",
       "2  0.990891  0.138777  0.313867       0.208502   223500.0  0.201422 -0.979149   \n",
       "3 -1.599111 -1.367655  0.313867      -3.426284   140000.0 -0.107463  1.807384   \n",
       "4  2.100892  0.138777  0.313867       0.208502   250000.0  1.045884 -0.945976   \n",
       "\n",
       "   RemodAge  \n",
       "0 -0.869941  \n",
       "1  0.390141  \n",
       "2 -0.821476  \n",
       "3  0.632464  \n",
       "4 -0.724547  \n",
       "\n",
       "[5 rows x 79 columns]"
      ]
     },
     "execution_count": 210,
     "metadata": {},
     "output_type": "execute_result"
    }
   ],
   "source": [
    "train_df.head()"
   ]
  },
  {
   "cell_type": "markdown",
   "id": "309df486-ae90-40b8-87ed-9ea4665c2a2a",
   "metadata": {},
   "source": [
    "## Train-Test Split"
   ]
  },
  {
   "cell_type": "code",
   "execution_count": 227,
   "id": "2edeb0a6-e726-4820-960a-83b1dff644e2",
   "metadata": {},
   "outputs": [],
   "source": [
    "from sklearn.model_selection import train_test_split"
   ]
  },
  {
   "cell_type": "code",
   "execution_count": 233,
   "id": "d1c8550a-1454-4a8a-9d13-5624f5654355",
   "metadata": {},
   "outputs": [
    {
     "name": "stdout",
     "output_type": "stream",
     "text": [
      "   MSSubClass  MSZoning  LotFrontage   LotArea    Street  LotShape  \\\n",
      "0    0.131067 -0.045532    -0.237456 -0.333244  0.064238  0.750731   \n",
      "1   -0.935733 -0.045532     0.633321 -0.013189  0.064238  0.750731   \n",
      "2    0.131067 -0.045532    -0.063300  0.446022  0.064238 -1.378933   \n",
      "3    0.397766 -0.045532    -0.527714 -0.027104  0.064238 -1.378933   \n",
      "4    0.131067 -0.045532     0.865528  1.283733  0.064238 -1.378933   \n",
      "\n",
      "   LandContour  Utilities  LotConfig  LandSlope  ...  ScreenPorch  PoolArea  \\\n",
      "0     0.314667   -0.02618   0.604670  -0.225716  ...          0.0       0.0   \n",
      "1     0.314667   -0.02618  -0.628316  -0.225716  ...          0.0       0.0   \n",
      "2     0.314667   -0.02618   0.604670  -0.225716  ...          0.0       0.0   \n",
      "3     0.314667   -0.02618  -1.861302  -0.225716  ...          0.0       0.0   \n",
      "4     0.314667   -0.02618  -0.628316  -0.225716  ...          0.0       0.0   \n",
      "\n",
      "   MiscVal    MoSold    YrSold  SaleType  SaleCondition   TotalSF  HouseAge  \\\n",
      "0      0.0 -1.599111  0.138777  0.313867       0.208502  0.015826 -1.045496   \n",
      "1      0.0 -0.489110 -0.614439  0.313867       0.208502 -0.039853 -0.182997   \n",
      "2      0.0  0.990891  0.138777  0.313867       0.208502  0.201422 -0.979149   \n",
      "3      0.0 -1.599111 -1.367655  0.313867      -3.426284 -0.107463  1.807384   \n",
      "4      0.0  2.100892  0.138777  0.313867       0.208502  1.045884 -0.945976   \n",
      "\n",
      "   RemodAge  \n",
      "0 -0.869941  \n",
      "1  0.390141  \n",
      "2 -0.821476  \n",
      "3  0.632464  \n",
      "4 -0.724547  \n",
      "\n",
      "[5 rows x 78 columns]\n",
      "----------------------------------------\n",
      "0    208500.0\n",
      "1    181500.0\n",
      "2    223500.0\n",
      "3    140000.0\n",
      "4    250000.0\n",
      "Name: SalePrice, dtype: float64\n"
     ]
    }
   ],
   "source": [
    "X = train_df.drop(columns = 'SalePrice')\n",
    "y = train_df['SalePrice']\n",
    "\n",
    "print(X.head())\n",
    "print(\"----------------------------------------\")\n",
    "print(y.head())"
   ]
  },
  {
   "cell_type": "code",
   "execution_count": 235,
   "id": "50bec1a0-2e2d-48f5-bdf5-59b00e3f2495",
   "metadata": {},
   "outputs": [],
   "source": [
    "X_train, X_test, y_train, y_test = train_test_split(X, y, test_size= 0.2, random_state=42)"
   ]
  },
  {
   "cell_type": "markdown",
   "id": "ef7725a9-0977-48af-9f12-e0ca3c610c1e",
   "metadata": {},
   "source": [
    "## Modeling"
   ]
  },
  {
   "cell_type": "code",
   "execution_count": null,
   "id": "a5d56bfe-1491-40f8-961a-bd7587844106",
   "metadata": {},
   "outputs": [],
   "source": []
  },
  {
   "cell_type": "code",
   "execution_count": 239,
   "id": "58de2a29-ce93-459f-8073-93d448d83ffc",
   "metadata": {},
   "outputs": [],
   "source": [
    "from sklearn.linear_model import LinearRegression\n",
    "from sklearn.ensemble import RandomForestRegressor\n",
    "from sklearn.metrics import mean_squared_error\n",
    "from sklearn.metrics import r2_score"
   ]
  },
  {
   "cell_type": "code",
   "execution_count": 255,
   "id": "ada50b45-5f69-415b-a6a7-67a8321faa9b",
   "metadata": {},
   "outputs": [
    {
     "name": "stdout",
     "output_type": "stream",
     "text": [
      "Linear RMSE: 22514.1470006491\n",
      "Linear Regression R² Score: 0.8963262630491925\n",
      "-----------------------------------\n",
      "Random Forest RMSE: 19804.178281333072\n",
      "Random Forest R² Score: 0.9197820770281264\n"
     ]
    }
   ],
   "source": [
    "from sklearn.metrics import root_mean_squared_error\n",
    "\n",
    "# Linear Regression RMSE\n",
    "lr = LinearRegression()\n",
    "lr.fit(X_train, y_train)\n",
    "lr_pred = lr.predict(X_test)\n",
    "lr_rmse = root_mean_squared_error(y_test, lr_pred)\n",
    "print(\"Linear RMSE:\", lr_rmse)\n",
    "lr_r2 = r2_score(y_test, lr_pred)\n",
    "print(\"Linear Regression R² Score:\", lr_r2)\n",
    "\n",
    "print(\"-----------------------------------\")\n",
    "\n",
    "# Random Forest RMSE\n",
    "rf = RandomForestRegressor()\n",
    "rf.fit(X_train, y_train)\n",
    "rf_pred = rf.predict(X_test)\n",
    "rf_rmse = root_mean_squared_error(y_test, rf_pred)\n",
    "print(\"Random Forest RMSE:\", rf_rmse)\n",
    "rf_r2 = r2_score(y_test, rf_pred)\n",
    "print(\"Random Forest R² Score:\", rf_r2)\n"
   ]
  },
  {
   "cell_type": "code",
   "execution_count": null,
   "id": "edef317b-ddd0-4454-a3a9-5613a86313d8",
   "metadata": {},
   "outputs": [],
   "source": []
  },
  {
   "cell_type": "code",
   "execution_count": null,
   "id": "42eca944-1b5f-49e5-9831-fb6f23ae9076",
   "metadata": {},
   "outputs": [],
   "source": []
  },
  {
   "cell_type": "code",
   "execution_count": null,
   "id": "4c9755de-4430-4367-9e4f-66977c0bf545",
   "metadata": {},
   "outputs": [],
   "source": []
  },
  {
   "cell_type": "markdown",
   "id": "18ef929f-4c9f-4afb-aeb4-61c87a3191ac",
   "metadata": {},
   "source": [
    "## Working on test file"
   ]
  },
  {
   "cell_type": "code",
   "execution_count": 279,
   "id": "85ba31cd-637a-4a12-b7dc-b3b783009cd0",
   "metadata": {},
   "outputs": [
    {
     "data": {
      "text/html": [
       "<div>\n",
       "<style scoped>\n",
       "    .dataframe tbody tr th:only-of-type {\n",
       "        vertical-align: middle;\n",
       "    }\n",
       "\n",
       "    .dataframe tbody tr th {\n",
       "        vertical-align: top;\n",
       "    }\n",
       "\n",
       "    .dataframe thead th {\n",
       "        text-align: right;\n",
       "    }\n",
       "</style>\n",
       "<table border=\"1\" class=\"dataframe\">\n",
       "  <thead>\n",
       "    <tr style=\"text-align: right;\">\n",
       "      <th></th>\n",
       "      <th>Id</th>\n",
       "      <th>MSSubClass</th>\n",
       "      <th>MSZoning</th>\n",
       "      <th>LotFrontage</th>\n",
       "      <th>LotArea</th>\n",
       "      <th>Street</th>\n",
       "      <th>Alley</th>\n",
       "      <th>LotShape</th>\n",
       "      <th>LandContour</th>\n",
       "      <th>Utilities</th>\n",
       "      <th>...</th>\n",
       "      <th>ScreenPorch</th>\n",
       "      <th>PoolArea</th>\n",
       "      <th>PoolQC</th>\n",
       "      <th>Fence</th>\n",
       "      <th>MiscFeature</th>\n",
       "      <th>MiscVal</th>\n",
       "      <th>MoSold</th>\n",
       "      <th>YrSold</th>\n",
       "      <th>SaleType</th>\n",
       "      <th>SaleCondition</th>\n",
       "    </tr>\n",
       "  </thead>\n",
       "  <tbody>\n",
       "    <tr>\n",
       "      <th>0</th>\n",
       "      <td>1461</td>\n",
       "      <td>20</td>\n",
       "      <td>RH</td>\n",
       "      <td>80.0</td>\n",
       "      <td>11622</td>\n",
       "      <td>Pave</td>\n",
       "      <td>NaN</td>\n",
       "      <td>Reg</td>\n",
       "      <td>Lvl</td>\n",
       "      <td>AllPub</td>\n",
       "      <td>...</td>\n",
       "      <td>120</td>\n",
       "      <td>0</td>\n",
       "      <td>NaN</td>\n",
       "      <td>MnPrv</td>\n",
       "      <td>NaN</td>\n",
       "      <td>0</td>\n",
       "      <td>6</td>\n",
       "      <td>2010</td>\n",
       "      <td>WD</td>\n",
       "      <td>Normal</td>\n",
       "    </tr>\n",
       "    <tr>\n",
       "      <th>1</th>\n",
       "      <td>1462</td>\n",
       "      <td>20</td>\n",
       "      <td>RL</td>\n",
       "      <td>81.0</td>\n",
       "      <td>14267</td>\n",
       "      <td>Pave</td>\n",
       "      <td>NaN</td>\n",
       "      <td>IR1</td>\n",
       "      <td>Lvl</td>\n",
       "      <td>AllPub</td>\n",
       "      <td>...</td>\n",
       "      <td>0</td>\n",
       "      <td>0</td>\n",
       "      <td>NaN</td>\n",
       "      <td>NaN</td>\n",
       "      <td>Gar2</td>\n",
       "      <td>12500</td>\n",
       "      <td>6</td>\n",
       "      <td>2010</td>\n",
       "      <td>WD</td>\n",
       "      <td>Normal</td>\n",
       "    </tr>\n",
       "    <tr>\n",
       "      <th>2</th>\n",
       "      <td>1463</td>\n",
       "      <td>60</td>\n",
       "      <td>RL</td>\n",
       "      <td>74.0</td>\n",
       "      <td>13830</td>\n",
       "      <td>Pave</td>\n",
       "      <td>NaN</td>\n",
       "      <td>IR1</td>\n",
       "      <td>Lvl</td>\n",
       "      <td>AllPub</td>\n",
       "      <td>...</td>\n",
       "      <td>0</td>\n",
       "      <td>0</td>\n",
       "      <td>NaN</td>\n",
       "      <td>MnPrv</td>\n",
       "      <td>NaN</td>\n",
       "      <td>0</td>\n",
       "      <td>3</td>\n",
       "      <td>2010</td>\n",
       "      <td>WD</td>\n",
       "      <td>Normal</td>\n",
       "    </tr>\n",
       "    <tr>\n",
       "      <th>3</th>\n",
       "      <td>1464</td>\n",
       "      <td>60</td>\n",
       "      <td>RL</td>\n",
       "      <td>78.0</td>\n",
       "      <td>9978</td>\n",
       "      <td>Pave</td>\n",
       "      <td>NaN</td>\n",
       "      <td>IR1</td>\n",
       "      <td>Lvl</td>\n",
       "      <td>AllPub</td>\n",
       "      <td>...</td>\n",
       "      <td>0</td>\n",
       "      <td>0</td>\n",
       "      <td>NaN</td>\n",
       "      <td>NaN</td>\n",
       "      <td>NaN</td>\n",
       "      <td>0</td>\n",
       "      <td>6</td>\n",
       "      <td>2010</td>\n",
       "      <td>WD</td>\n",
       "      <td>Normal</td>\n",
       "    </tr>\n",
       "    <tr>\n",
       "      <th>4</th>\n",
       "      <td>1465</td>\n",
       "      <td>120</td>\n",
       "      <td>RL</td>\n",
       "      <td>43.0</td>\n",
       "      <td>5005</td>\n",
       "      <td>Pave</td>\n",
       "      <td>NaN</td>\n",
       "      <td>IR1</td>\n",
       "      <td>HLS</td>\n",
       "      <td>AllPub</td>\n",
       "      <td>...</td>\n",
       "      <td>144</td>\n",
       "      <td>0</td>\n",
       "      <td>NaN</td>\n",
       "      <td>NaN</td>\n",
       "      <td>NaN</td>\n",
       "      <td>0</td>\n",
       "      <td>1</td>\n",
       "      <td>2010</td>\n",
       "      <td>WD</td>\n",
       "      <td>Normal</td>\n",
       "    </tr>\n",
       "  </tbody>\n",
       "</table>\n",
       "<p>5 rows × 80 columns</p>\n",
       "</div>"
      ],
      "text/plain": [
       "     Id  MSSubClass MSZoning  LotFrontage  LotArea Street Alley LotShape  \\\n",
       "0  1461          20       RH         80.0    11622   Pave   NaN      Reg   \n",
       "1  1462          20       RL         81.0    14267   Pave   NaN      IR1   \n",
       "2  1463          60       RL         74.0    13830   Pave   NaN      IR1   \n",
       "3  1464          60       RL         78.0     9978   Pave   NaN      IR1   \n",
       "4  1465         120       RL         43.0     5005   Pave   NaN      IR1   \n",
       "\n",
       "  LandContour Utilities  ... ScreenPorch PoolArea PoolQC  Fence MiscFeature  \\\n",
       "0         Lvl    AllPub  ...         120        0    NaN  MnPrv         NaN   \n",
       "1         Lvl    AllPub  ...           0        0    NaN    NaN        Gar2   \n",
       "2         Lvl    AllPub  ...           0        0    NaN  MnPrv         NaN   \n",
       "3         Lvl    AllPub  ...           0        0    NaN    NaN         NaN   \n",
       "4         HLS    AllPub  ...         144        0    NaN    NaN         NaN   \n",
       "\n",
       "  MiscVal MoSold  YrSold  SaleType  SaleCondition  \n",
       "0       0      6    2010        WD         Normal  \n",
       "1   12500      6    2010        WD         Normal  \n",
       "2       0      3    2010        WD         Normal  \n",
       "3       0      6    2010        WD         Normal  \n",
       "4       0      1    2010        WD         Normal  \n",
       "\n",
       "[5 rows x 80 columns]"
      ]
     },
     "execution_count": 279,
     "metadata": {},
     "output_type": "execute_result"
    }
   ],
   "source": [
    "test_df = pd.read_csv(r\"/Users/mohammedyousuf/Documents/House_Price_Prediction/data/test.csv\")\n",
    "test_df.head()"
   ]
  },
  {
   "cell_type": "markdown",
   "id": "d15f8f90-a65a-4f8a-9f36-16b568294c87",
   "metadata": {},
   "source": [
    "## Duplicate values Treatment"
   ]
  },
  {
   "cell_type": "code",
   "execution_count": 277,
   "id": "2da81169-9cae-4b35-95dd-af602867e63a",
   "metadata": {},
   "outputs": [
    {
     "name": "stdout",
     "output_type": "stream",
     "text": [
      "Number of duplicate rows: 0\n"
     ]
    }
   ],
   "source": [
    "duplicate_count = test_df.duplicated().sum()\n",
    "print(f\"Number of duplicate rows: {duplicate_count}\")"
   ]
  },
  {
   "cell_type": "markdown",
   "id": "be399799-7d01-407b-979f-d3ba0849cc14",
   "metadata": {},
   "source": [
    "## Missing Values Treatment"
   ]
  },
  {
   "cell_type": "code",
   "execution_count": 281,
   "id": "c35509ff-a6a8-4a47-957b-881c4df070b7",
   "metadata": {
    "scrolled": true
   },
   "outputs": [
    {
     "data": {
      "text/plain": [
       "PoolQC          1456\n",
       "MiscFeature     1408\n",
       "Alley           1352\n",
       "Fence           1169\n",
       "MasVnrType       894\n",
       "FireplaceQu      730\n",
       "LotFrontage      227\n",
       "GarageYrBlt       78\n",
       "GarageQual        78\n",
       "GarageFinish      78\n",
       "GarageCond        78\n",
       "GarageType        76\n",
       "BsmtCond          45\n",
       "BsmtQual          44\n",
       "BsmtExposure      44\n",
       "BsmtFinType1      42\n",
       "BsmtFinType2      42\n",
       "MasVnrArea        15\n",
       "MSZoning           4\n",
       "BsmtHalfBath       2\n",
       "Utilities          2\n",
       "Functional         2\n",
       "BsmtFullBath       2\n",
       "BsmtFinSF1         1\n",
       "BsmtFinSF2         1\n",
       "BsmtUnfSF          1\n",
       "KitchenQual        1\n",
       "TotalBsmtSF        1\n",
       "Exterior2nd        1\n",
       "GarageCars         1\n",
       "Exterior1st        1\n",
       "GarageArea         1\n",
       "SaleType           1\n",
       "dtype: int64"
      ]
     },
     "execution_count": 281,
     "metadata": {},
     "output_type": "execute_result"
    }
   ],
   "source": [
    "test_df.isnull().sum().sort_values(ascending = False)[test_df.isnull().sum() > 0]"
   ]
  },
  {
   "cell_type": "code",
   "execution_count": 283,
   "id": "2971c3d5-1fc4-4640-a6a3-f2cefa139fbc",
   "metadata": {},
   "outputs": [],
   "source": [
    "#Lets drop the columns with more number of missing values as these columns anyway not adding much value on the SalePrice\n",
    "\n",
    "test_df = test_df.drop(columns = [\"PoolQC\", \"MiscFeature\",\"Alley\", \"Fence\"])"
   ]
  },
  {
   "cell_type": "code",
   "execution_count": 287,
   "id": "6263cdfc-5f86-4513-b1c7-77e8ca524a06",
   "metadata": {},
   "outputs": [
    {
     "data": {
      "text/plain": [
       "MasVnrType      894\n",
       "FireplaceQu     730\n",
       "LotFrontage     227\n",
       "GarageYrBlt      78\n",
       "GarageFinish     78\n",
       "GarageQual       78\n",
       "GarageCond       78\n",
       "GarageType       76\n",
       "BsmtCond         45\n",
       "BsmtQual         44\n",
       "BsmtExposure     44\n",
       "BsmtFinType1     42\n",
       "BsmtFinType2     42\n",
       "MasVnrArea       15\n",
       "MSZoning          4\n",
       "BsmtHalfBath      2\n",
       "Utilities         2\n",
       "Functional        2\n",
       "BsmtFullBath      2\n",
       "BsmtFinSF1        1\n",
       "BsmtFinSF2        1\n",
       "BsmtUnfSF         1\n",
       "TotalBsmtSF       1\n",
       "KitchenQual       1\n",
       "Exterior2nd       1\n",
       "Exterior1st       1\n",
       "GarageArea        1\n",
       "SaleType          1\n",
       "GarageCars        1\n",
       "dtype: int64"
      ]
     },
     "execution_count": 287,
     "metadata": {},
     "output_type": "execute_result"
    }
   ],
   "source": [
    "test_df.isnull().sum().sort_values(ascending = False)[test_df.isnull().sum() > 0]"
   ]
  },
  {
   "cell_type": "code",
   "execution_count": 289,
   "id": "3dde2d73-f4b1-4617-a0ca-8f81756b4356",
   "metadata": {
    "scrolled": true
   },
   "outputs": [
    {
     "name": "stdout",
     "output_type": "stream",
     "text": [
      "categorical_cols -  Index(['MSZoning', 'Street', 'LotShape', 'LandContour', 'Utilities',\n",
      "       'LotConfig', 'LandSlope', 'Neighborhood', 'Condition1', 'Condition2',\n",
      "       'BldgType', 'HouseStyle', 'RoofStyle', 'RoofMatl', 'Exterior1st',\n",
      "       'Exterior2nd', 'MasVnrType', 'ExterQual', 'ExterCond', 'Foundation',\n",
      "       'BsmtQual', 'BsmtCond', 'BsmtExposure', 'BsmtFinType1', 'BsmtFinType2',\n",
      "       'Heating', 'HeatingQC', 'CentralAir', 'Electrical', 'KitchenQual',\n",
      "       'Functional', 'FireplaceQu', 'GarageType', 'GarageFinish', 'GarageQual',\n",
      "       'GarageCond', 'PavedDrive', 'SaleType', 'SaleCondition'],\n",
      "      dtype='object')\n",
      "-------------------\n",
      "numerical_cols -  Index(['Id', 'MSSubClass', 'LotFrontage', 'LotArea', 'OverallQual',\n",
      "       'OverallCond', 'YearBuilt', 'YearRemodAdd', 'MasVnrArea', 'BsmtFinSF1',\n",
      "       'BsmtFinSF2', 'BsmtUnfSF', 'TotalBsmtSF', '1stFlrSF', '2ndFlrSF',\n",
      "       'LowQualFinSF', 'GrLivArea', 'BsmtFullBath', 'BsmtHalfBath', 'FullBath',\n",
      "       'HalfBath', 'BedroomAbvGr', 'KitchenAbvGr', 'TotRmsAbvGrd',\n",
      "       'Fireplaces', 'GarageYrBlt', 'GarageCars', 'GarageArea', 'WoodDeckSF',\n",
      "       'OpenPorchSF', 'EnclosedPorch', '3SsnPorch', 'ScreenPorch', 'PoolArea',\n",
      "       'MiscVal', 'MoSold', 'YrSold'],\n",
      "      dtype='object')\n"
     ]
    }
   ],
   "source": [
    "# Separate categorical and numerical columns\n",
    "categorical_cols = test_df.select_dtypes(include=['object', 'category']).columns\n",
    "numerical_cols = test_df.select_dtypes(include=['number']).columns\n",
    "\n",
    "print(\"categorical_cols - \",categorical_cols)\n",
    "print(\"-------------------\")\n",
    "print(\"numerical_cols - \",numerical_cols)"
   ]
  },
  {
   "cell_type": "code",
   "execution_count": 291,
   "id": "79996e7e-3e89-480a-9300-be8a6f7f04ee",
   "metadata": {
    "scrolled": true
   },
   "outputs": [
    {
     "name": "stdout",
     "output_type": "stream",
     "text": [
      "MSZoning filled with mode -  RL\n",
      "Utilities filled with mode -  AllPub\n",
      "Exterior1st filled with mode -  VinylSd\n",
      "Exterior2nd filled with mode -  VinylSd\n",
      "MasVnrType filled with mode -  BrkFace\n",
      "BsmtQual filled with mode -  TA\n",
      "BsmtCond filled with mode -  TA\n",
      "BsmtExposure filled with mode -  No\n",
      "BsmtFinType1 filled with mode -  GLQ\n",
      "BsmtFinType2 filled with mode -  Unf\n",
      "KitchenQual filled with mode -  TA\n",
      "Functional filled with mode -  Typ\n",
      "FireplaceQu filled with mode -  Gd\n",
      "GarageType filled with mode -  Attchd\n",
      "GarageFinish filled with mode -  Unf\n",
      "GarageQual filled with mode -  TA\n",
      "GarageCond filled with mode -  TA\n",
      "SaleType filled with mode -  WD\n",
      "LotFrontage filled with median -  67.0\n",
      "MasVnrArea filled with median -  0.0\n",
      "BsmtFinSF1 filled with median -  350.5\n",
      "BsmtFinSF2 filled with median -  0.0\n",
      "BsmtUnfSF filled with median -  460.0\n",
      "TotalBsmtSF filled with median -  988.0\n",
      "BsmtFullBath filled with median -  0.0\n",
      "BsmtHalfBath filled with median -  0.0\n",
      "GarageYrBlt filled with median -  1979.0\n",
      "GarageCars filled with median -  2.0\n",
      "GarageArea filled with median -  480.0\n"
     ]
    }
   ],
   "source": [
    "#For now lets fill the missing value - for categorical cols lets fill with mode and for numerical cols lets fill with median\n",
    "\n",
    "for cols in categorical_cols:\n",
    "    if test_df[cols].isnull().sum()>0:\n",
    "        test_df[cols] = test_df[cols].fillna(test_df[cols].mode()[0])\n",
    "        print(cols, \"filled with mode - \", test_df[cols].mode()[0])\n",
    "\n",
    "\n",
    "\n",
    "for cols in numerical_cols:\n",
    "    if test_df[cols].isnull().sum()>0:\n",
    "        test_df[cols] = test_df[cols].fillna(test_df[cols].median())\n",
    "        print(cols, \"filled with median - \", test_df[cols].median())"
   ]
  },
  {
   "cell_type": "code",
   "execution_count": 293,
   "id": "f37fb986-aea6-424f-a290-d59288a7eef6",
   "metadata": {},
   "outputs": [
    {
     "data": {
      "text/plain": [
       "Series([], dtype: int64)"
      ]
     },
     "execution_count": 293,
     "metadata": {},
     "output_type": "execute_result"
    }
   ],
   "source": [
    "#checking the missing values \n",
    "train_df.isnull().sum()[train_df.isnull().sum()>0]"
   ]
  },
  {
   "cell_type": "markdown",
   "id": "6a2eeab7-009f-4892-afb2-c465ea74a823",
   "metadata": {},
   "source": [
    "## Encoding"
   ]
  },
  {
   "cell_type": "code",
   "execution_count": 296,
   "id": "71f9b04e-958a-4bf2-95ec-36e2fda09e16",
   "metadata": {},
   "outputs": [
    {
     "data": {
      "text/plain": [
       "{'MSZoning': {'C (all)': 0, 'FV': 1, 'RH': 2, 'RL': 3, 'RM': 4},\n",
       " 'Street': {'Grvl': 0, 'Pave': 1},\n",
       " 'LotShape': {'IR1': 0, 'IR2': 1, 'IR3': 2, 'Reg': 3},\n",
       " 'LandContour': {'Bnk': 0, 'HLS': 1, 'Low': 2, 'Lvl': 3},\n",
       " 'Utilities': {'AllPub': 0},\n",
       " 'LotConfig': {'Corner': 0, 'CulDSac': 1, 'FR2': 2, 'FR3': 3, 'Inside': 4},\n",
       " 'LandSlope': {'Gtl': 0, 'Mod': 1, 'Sev': 2},\n",
       " 'Neighborhood': {'Blmngtn': 0,\n",
       "  'Blueste': 1,\n",
       "  'BrDale': 2,\n",
       "  'BrkSide': 3,\n",
       "  'ClearCr': 4,\n",
       "  'CollgCr': 5,\n",
       "  'Crawfor': 6,\n",
       "  'Edwards': 7,\n",
       "  'Gilbert': 8,\n",
       "  'IDOTRR': 9,\n",
       "  'MeadowV': 10,\n",
       "  'Mitchel': 11,\n",
       "  'NAmes': 12,\n",
       "  'NPkVill': 13,\n",
       "  'NWAmes': 14,\n",
       "  'NoRidge': 15,\n",
       "  'NridgHt': 16,\n",
       "  'OldTown': 17,\n",
       "  'SWISU': 18,\n",
       "  'Sawyer': 19,\n",
       "  'SawyerW': 20,\n",
       "  'Somerst': 21,\n",
       "  'StoneBr': 22,\n",
       "  'Timber': 23,\n",
       "  'Veenker': 24},\n",
       " 'Condition1': {'Artery': 0,\n",
       "  'Feedr': 1,\n",
       "  'Norm': 2,\n",
       "  'PosA': 3,\n",
       "  'PosN': 4,\n",
       "  'RRAe': 5,\n",
       "  'RRAn': 6,\n",
       "  'RRNe': 7,\n",
       "  'RRNn': 8},\n",
       " 'Condition2': {'Artery': 0, 'Feedr': 1, 'Norm': 2, 'PosA': 3, 'PosN': 4},\n",
       " 'BldgType': {'1Fam': 0, '2fmCon': 1, 'Duplex': 2, 'Twnhs': 3, 'TwnhsE': 4},\n",
       " 'HouseStyle': {'1.5Fin': 0,\n",
       "  '1.5Unf': 1,\n",
       "  '1Story': 2,\n",
       "  '2.5Unf': 3,\n",
       "  '2Story': 4,\n",
       "  'SFoyer': 5,\n",
       "  'SLvl': 6},\n",
       " 'RoofStyle': {'Flat': 0,\n",
       "  'Gable': 1,\n",
       "  'Gambrel': 2,\n",
       "  'Hip': 3,\n",
       "  'Mansard': 4,\n",
       "  'Shed': 5},\n",
       " 'RoofMatl': {'CompShg': 0, 'Tar&Grv': 1, 'WdShake': 2, 'WdShngl': 3},\n",
       " 'Exterior1st': {'AsbShng': 0,\n",
       "  'AsphShn': 1,\n",
       "  'BrkComm': 2,\n",
       "  'BrkFace': 3,\n",
       "  'CBlock': 4,\n",
       "  'CemntBd': 5,\n",
       "  'HdBoard': 6,\n",
       "  'MetalSd': 7,\n",
       "  'Plywood': 8,\n",
       "  'Stucco': 9,\n",
       "  'VinylSd': 10,\n",
       "  'Wd Sdng': 11,\n",
       "  'WdShing': 12},\n",
       " 'Exterior2nd': {'AsbShng': 0,\n",
       "  'AsphShn': 1,\n",
       "  'Brk Cmn': 2,\n",
       "  'BrkFace': 3,\n",
       "  'CBlock': 4,\n",
       "  'CmentBd': 5,\n",
       "  'HdBoard': 6,\n",
       "  'ImStucc': 7,\n",
       "  'MetalSd': 8,\n",
       "  'Plywood': 9,\n",
       "  'Stone': 10,\n",
       "  'Stucco': 11,\n",
       "  'VinylSd': 12,\n",
       "  'Wd Sdng': 13,\n",
       "  'Wd Shng': 14},\n",
       " 'MasVnrType': {'BrkCmn': 0, 'BrkFace': 1, 'Stone': 2},\n",
       " 'ExterQual': {'Ex': 0, 'Fa': 1, 'Gd': 2, 'TA': 3},\n",
       " 'ExterCond': {'Ex': 0, 'Fa': 1, 'Gd': 2, 'Po': 3, 'TA': 4},\n",
       " 'Foundation': {'BrkTil': 0,\n",
       "  'CBlock': 1,\n",
       "  'PConc': 2,\n",
       "  'Slab': 3,\n",
       "  'Stone': 4,\n",
       "  'Wood': 5},\n",
       " 'BsmtQual': {'Ex': 0, 'Fa': 1, 'Gd': 2, 'TA': 3},\n",
       " 'BsmtCond': {'Fa': 0, 'Gd': 1, 'Po': 2, 'TA': 3},\n",
       " 'BsmtExposure': {'Av': 0, 'Gd': 1, 'Mn': 2, 'No': 3},\n",
       " 'BsmtFinType1': {'ALQ': 0, 'BLQ': 1, 'GLQ': 2, 'LwQ': 3, 'Rec': 4, 'Unf': 5},\n",
       " 'BsmtFinType2': {'ALQ': 0, 'BLQ': 1, 'GLQ': 2, 'LwQ': 3, 'Rec': 4, 'Unf': 5},\n",
       " 'Heating': {'GasA': 0, 'GasW': 1, 'Grav': 2, 'Wall': 3},\n",
       " 'HeatingQC': {'Ex': 0, 'Fa': 1, 'Gd': 2, 'Po': 3, 'TA': 4},\n",
       " 'CentralAir': {'N': 0, 'Y': 1},\n",
       " 'Electrical': {'FuseA': 0, 'FuseF': 1, 'FuseP': 2, 'SBrkr': 3},\n",
       " 'KitchenQual': {'Ex': 0, 'Fa': 1, 'Gd': 2, 'TA': 3},\n",
       " 'Functional': {'Maj1': 0,\n",
       "  'Maj2': 1,\n",
       "  'Min1': 2,\n",
       "  'Min2': 3,\n",
       "  'Mod': 4,\n",
       "  'Sev': 5,\n",
       "  'Typ': 6},\n",
       " 'FireplaceQu': {'Ex': 0, 'Fa': 1, 'Gd': 2, 'Po': 3, 'TA': 4},\n",
       " 'GarageType': {'2Types': 0,\n",
       "  'Attchd': 1,\n",
       "  'Basment': 2,\n",
       "  'BuiltIn': 3,\n",
       "  'CarPort': 4,\n",
       "  'Detchd': 5},\n",
       " 'GarageFinish': {'Fin': 0, 'RFn': 1, 'Unf': 2},\n",
       " 'GarageQual': {'Fa': 0, 'Gd': 1, 'Po': 2, 'TA': 3},\n",
       " 'GarageCond': {'Ex': 0, 'Fa': 1, 'Gd': 2, 'Po': 3, 'TA': 4},\n",
       " 'PavedDrive': {'N': 0, 'P': 1, 'Y': 2},\n",
       " 'SaleType': {'COD': 0,\n",
       "  'CWD': 1,\n",
       "  'Con': 2,\n",
       "  'ConLD': 3,\n",
       "  'ConLI': 4,\n",
       "  'ConLw': 5,\n",
       "  'New': 6,\n",
       "  'Oth': 7,\n",
       "  'WD': 8},\n",
       " 'SaleCondition': {'Abnorml': 0,\n",
       "  'AdjLand': 1,\n",
       "  'Alloca': 2,\n",
       "  'Family': 3,\n",
       "  'Normal': 4,\n",
       "  'Partial': 5}}"
      ]
     },
     "execution_count": 296,
     "metadata": {},
     "output_type": "execute_result"
    }
   ],
   "source": [
    "label_mappings = {}\n",
    "\n",
    "\n",
    "for col in categorical_cols:\n",
    "    le = LabelEncoder()\n",
    "    test_df[col] = le.fit_transform(test_df[col])\n",
    "    \n",
    "    # Save mapping for each column\n",
    "    col_mapping = dict(zip(le.classes_, le.transform(le.classes_)))\n",
    "    label_mappings[col] = col_mapping\n",
    "\n",
    "label_mappings"
   ]
  },
  {
   "cell_type": "markdown",
   "id": "30c7b080-0f07-4013-8fbb-fc295c022402",
   "metadata": {},
   "source": [
    "## Remove unnecessary columns "
   ]
  },
  {
   "cell_type": "code",
   "execution_count": 298,
   "id": "76748843-1650-4721-9e7c-4112412b2b32",
   "metadata": {},
   "outputs": [
    {
     "data": {
      "text/plain": [
       "1459"
      ]
     },
     "execution_count": 298,
     "metadata": {},
     "output_type": "execute_result"
    }
   ],
   "source": [
    "test_df['Id'].nunique()"
   ]
  },
  {
   "cell_type": "code",
   "execution_count": 302,
   "id": "7f41fedb-c872-4162-8af5-6a6d2dbfa13e",
   "metadata": {},
   "outputs": [
    {
     "data": {
      "text/html": [
       "<div>\n",
       "<style scoped>\n",
       "    .dataframe tbody tr th:only-of-type {\n",
       "        vertical-align: middle;\n",
       "    }\n",
       "\n",
       "    .dataframe tbody tr th {\n",
       "        vertical-align: top;\n",
       "    }\n",
       "\n",
       "    .dataframe thead th {\n",
       "        text-align: right;\n",
       "    }\n",
       "</style>\n",
       "<table border=\"1\" class=\"dataframe\">\n",
       "  <thead>\n",
       "    <tr style=\"text-align: right;\">\n",
       "      <th></th>\n",
       "      <th>MSSubClass</th>\n",
       "      <th>MSZoning</th>\n",
       "      <th>LotFrontage</th>\n",
       "      <th>LotArea</th>\n",
       "      <th>Street</th>\n",
       "      <th>LotShape</th>\n",
       "      <th>LandContour</th>\n",
       "      <th>Utilities</th>\n",
       "      <th>LotConfig</th>\n",
       "      <th>LandSlope</th>\n",
       "      <th>...</th>\n",
       "      <th>OpenPorchSF</th>\n",
       "      <th>EnclosedPorch</th>\n",
       "      <th>3SsnPorch</th>\n",
       "      <th>ScreenPorch</th>\n",
       "      <th>PoolArea</th>\n",
       "      <th>MiscVal</th>\n",
       "      <th>MoSold</th>\n",
       "      <th>YrSold</th>\n",
       "      <th>SaleType</th>\n",
       "      <th>SaleCondition</th>\n",
       "    </tr>\n",
       "  </thead>\n",
       "  <tbody>\n",
       "    <tr>\n",
       "      <th>0</th>\n",
       "      <td>20</td>\n",
       "      <td>2</td>\n",
       "      <td>80.0</td>\n",
       "      <td>11622</td>\n",
       "      <td>1</td>\n",
       "      <td>3</td>\n",
       "      <td>3</td>\n",
       "      <td>0</td>\n",
       "      <td>4</td>\n",
       "      <td>0</td>\n",
       "      <td>...</td>\n",
       "      <td>0</td>\n",
       "      <td>0</td>\n",
       "      <td>0</td>\n",
       "      <td>120</td>\n",
       "      <td>0</td>\n",
       "      <td>0</td>\n",
       "      <td>6</td>\n",
       "      <td>2010</td>\n",
       "      <td>8</td>\n",
       "      <td>4</td>\n",
       "    </tr>\n",
       "    <tr>\n",
       "      <th>1</th>\n",
       "      <td>20</td>\n",
       "      <td>3</td>\n",
       "      <td>81.0</td>\n",
       "      <td>14267</td>\n",
       "      <td>1</td>\n",
       "      <td>0</td>\n",
       "      <td>3</td>\n",
       "      <td>0</td>\n",
       "      <td>0</td>\n",
       "      <td>0</td>\n",
       "      <td>...</td>\n",
       "      <td>36</td>\n",
       "      <td>0</td>\n",
       "      <td>0</td>\n",
       "      <td>0</td>\n",
       "      <td>0</td>\n",
       "      <td>12500</td>\n",
       "      <td>6</td>\n",
       "      <td>2010</td>\n",
       "      <td>8</td>\n",
       "      <td>4</td>\n",
       "    </tr>\n",
       "    <tr>\n",
       "      <th>2</th>\n",
       "      <td>60</td>\n",
       "      <td>3</td>\n",
       "      <td>74.0</td>\n",
       "      <td>13830</td>\n",
       "      <td>1</td>\n",
       "      <td>0</td>\n",
       "      <td>3</td>\n",
       "      <td>0</td>\n",
       "      <td>4</td>\n",
       "      <td>0</td>\n",
       "      <td>...</td>\n",
       "      <td>34</td>\n",
       "      <td>0</td>\n",
       "      <td>0</td>\n",
       "      <td>0</td>\n",
       "      <td>0</td>\n",
       "      <td>0</td>\n",
       "      <td>3</td>\n",
       "      <td>2010</td>\n",
       "      <td>8</td>\n",
       "      <td>4</td>\n",
       "    </tr>\n",
       "    <tr>\n",
       "      <th>3</th>\n",
       "      <td>60</td>\n",
       "      <td>3</td>\n",
       "      <td>78.0</td>\n",
       "      <td>9978</td>\n",
       "      <td>1</td>\n",
       "      <td>0</td>\n",
       "      <td>3</td>\n",
       "      <td>0</td>\n",
       "      <td>4</td>\n",
       "      <td>0</td>\n",
       "      <td>...</td>\n",
       "      <td>36</td>\n",
       "      <td>0</td>\n",
       "      <td>0</td>\n",
       "      <td>0</td>\n",
       "      <td>0</td>\n",
       "      <td>0</td>\n",
       "      <td>6</td>\n",
       "      <td>2010</td>\n",
       "      <td>8</td>\n",
       "      <td>4</td>\n",
       "    </tr>\n",
       "    <tr>\n",
       "      <th>4</th>\n",
       "      <td>120</td>\n",
       "      <td>3</td>\n",
       "      <td>43.0</td>\n",
       "      <td>5005</td>\n",
       "      <td>1</td>\n",
       "      <td>0</td>\n",
       "      <td>1</td>\n",
       "      <td>0</td>\n",
       "      <td>4</td>\n",
       "      <td>0</td>\n",
       "      <td>...</td>\n",
       "      <td>82</td>\n",
       "      <td>0</td>\n",
       "      <td>0</td>\n",
       "      <td>144</td>\n",
       "      <td>0</td>\n",
       "      <td>0</td>\n",
       "      <td>1</td>\n",
       "      <td>2010</td>\n",
       "      <td>8</td>\n",
       "      <td>4</td>\n",
       "    </tr>\n",
       "  </tbody>\n",
       "</table>\n",
       "<p>5 rows × 75 columns</p>\n",
       "</div>"
      ],
      "text/plain": [
       "   MSSubClass  MSZoning  LotFrontage  LotArea  Street  LotShape  LandContour  \\\n",
       "0          20         2         80.0    11622       1         3            3   \n",
       "1          20         3         81.0    14267       1         0            3   \n",
       "2          60         3         74.0    13830       1         0            3   \n",
       "3          60         3         78.0     9978       1         0            3   \n",
       "4         120         3         43.0     5005       1         0            1   \n",
       "\n",
       "   Utilities  LotConfig  LandSlope  ...  OpenPorchSF  EnclosedPorch  \\\n",
       "0          0          4          0  ...            0              0   \n",
       "1          0          0          0  ...           36              0   \n",
       "2          0          4          0  ...           34              0   \n",
       "3          0          4          0  ...           36              0   \n",
       "4          0          4          0  ...           82              0   \n",
       "\n",
       "   3SsnPorch  ScreenPorch  PoolArea  MiscVal  MoSold  YrSold  SaleType  \\\n",
       "0          0          120         0        0       6    2010         8   \n",
       "1          0            0         0    12500       6    2010         8   \n",
       "2          0            0         0        0       3    2010         8   \n",
       "3          0            0         0        0       6    2010         8   \n",
       "4          0          144         0        0       1    2010         8   \n",
       "\n",
       "   SaleCondition  \n",
       "0              4  \n",
       "1              4  \n",
       "2              4  \n",
       "3              4  \n",
       "4              4  \n",
       "\n",
       "[5 rows x 75 columns]"
      ]
     },
     "execution_count": 302,
     "metadata": {},
     "output_type": "execute_result"
    }
   ],
   "source": [
    "#lets drop the Id column as it is not that helpful for the model\n",
    "test_df = test_df.drop(columns = 'Id')\n",
    "test_df.head()"
   ]
  },
  {
   "cell_type": "code",
   "execution_count": 305,
   "id": "18a16545-de24-4c34-b2af-b0f8a517309b",
   "metadata": {},
   "outputs": [
    {
     "data": {
      "text/plain": [
       "Index(['MSSubClass', 'MSZoning', 'LotFrontage', 'LotArea', 'Street',\n",
       "       'LotShape', 'LandContour', 'Utilities', 'LotConfig', 'LandSlope',\n",
       "       'Neighborhood', 'Condition1', 'Condition2', 'BldgType', 'HouseStyle',\n",
       "       'OverallQual', 'OverallCond', 'YearBuilt', 'YearRemodAdd', 'RoofStyle',\n",
       "       'RoofMatl', 'Exterior1st', 'Exterior2nd', 'MasVnrType', 'MasVnrArea',\n",
       "       'ExterQual', 'ExterCond', 'Foundation', 'BsmtQual', 'BsmtCond',\n",
       "       'BsmtExposure', 'BsmtFinType1', 'BsmtFinSF1', 'BsmtFinType2',\n",
       "       'BsmtFinSF2', 'BsmtUnfSF', 'TotalBsmtSF', 'Heating', 'HeatingQC',\n",
       "       'CentralAir', 'Electrical', '1stFlrSF', '2ndFlrSF', 'LowQualFinSF',\n",
       "       'GrLivArea', 'BsmtFullBath', 'BsmtHalfBath', 'FullBath', 'HalfBath',\n",
       "       'BedroomAbvGr', 'KitchenAbvGr', 'KitchenQual', 'TotRmsAbvGrd',\n",
       "       'Functional', 'Fireplaces', 'FireplaceQu', 'GarageType', 'GarageYrBlt',\n",
       "       'GarageFinish', 'GarageCars', 'GarageArea', 'GarageQual', 'GarageCond',\n",
       "       'PavedDrive', 'WoodDeckSF', 'OpenPorchSF', 'EnclosedPorch', '3SsnPorch',\n",
       "       'ScreenPorch', 'PoolArea', 'MiscVal', 'MoSold', 'YrSold', 'SaleType',\n",
       "       'SaleCondition'],\n",
       "      dtype='object')"
      ]
     },
     "execution_count": 305,
     "metadata": {},
     "output_type": "execute_result"
    }
   ],
   "source": [
    "test_df.columns"
   ]
  },
  {
   "cell_type": "markdown",
   "id": "646d54d9-dcc5-4a8d-9db7-46428c14f783",
   "metadata": {},
   "source": [
    "## Feature Engineering"
   ]
  },
  {
   "cell_type": "code",
   "execution_count": 307,
   "id": "094aa6dc-e734-43f2-b411-28ca64228295",
   "metadata": {},
   "outputs": [
    {
     "data": {
      "text/html": [
       "<div>\n",
       "<style scoped>\n",
       "    .dataframe tbody tr th:only-of-type {\n",
       "        vertical-align: middle;\n",
       "    }\n",
       "\n",
       "    .dataframe tbody tr th {\n",
       "        vertical-align: top;\n",
       "    }\n",
       "\n",
       "    .dataframe thead th {\n",
       "        text-align: right;\n",
       "    }\n",
       "</style>\n",
       "<table border=\"1\" class=\"dataframe\">\n",
       "  <thead>\n",
       "    <tr style=\"text-align: right;\">\n",
       "      <th></th>\n",
       "      <th>MSSubClass</th>\n",
       "      <th>MSZoning</th>\n",
       "      <th>LotFrontage</th>\n",
       "      <th>LotArea</th>\n",
       "      <th>Street</th>\n",
       "      <th>LotShape</th>\n",
       "      <th>LandContour</th>\n",
       "      <th>Utilities</th>\n",
       "      <th>LotConfig</th>\n",
       "      <th>LandSlope</th>\n",
       "      <th>...</th>\n",
       "      <th>ScreenPorch</th>\n",
       "      <th>PoolArea</th>\n",
       "      <th>MiscVal</th>\n",
       "      <th>MoSold</th>\n",
       "      <th>YrSold</th>\n",
       "      <th>SaleType</th>\n",
       "      <th>SaleCondition</th>\n",
       "      <th>TotalSF</th>\n",
       "      <th>HouseAge</th>\n",
       "      <th>RemodAge</th>\n",
       "    </tr>\n",
       "  </thead>\n",
       "  <tbody>\n",
       "    <tr>\n",
       "      <th>0</th>\n",
       "      <td>20</td>\n",
       "      <td>2</td>\n",
       "      <td>80.0</td>\n",
       "      <td>11622</td>\n",
       "      <td>1</td>\n",
       "      <td>3</td>\n",
       "      <td>3</td>\n",
       "      <td>0</td>\n",
       "      <td>4</td>\n",
       "      <td>0</td>\n",
       "      <td>...</td>\n",
       "      <td>120</td>\n",
       "      <td>0</td>\n",
       "      <td>0</td>\n",
       "      <td>6</td>\n",
       "      <td>2010</td>\n",
       "      <td>8</td>\n",
       "      <td>4</td>\n",
       "      <td>1778.0</td>\n",
       "      <td>49</td>\n",
       "      <td>49</td>\n",
       "    </tr>\n",
       "    <tr>\n",
       "      <th>1</th>\n",
       "      <td>20</td>\n",
       "      <td>3</td>\n",
       "      <td>81.0</td>\n",
       "      <td>14267</td>\n",
       "      <td>1</td>\n",
       "      <td>0</td>\n",
       "      <td>3</td>\n",
       "      <td>0</td>\n",
       "      <td>0</td>\n",
       "      <td>0</td>\n",
       "      <td>...</td>\n",
       "      <td>0</td>\n",
       "      <td>0</td>\n",
       "      <td>12500</td>\n",
       "      <td>6</td>\n",
       "      <td>2010</td>\n",
       "      <td>8</td>\n",
       "      <td>4</td>\n",
       "      <td>2658.0</td>\n",
       "      <td>52</td>\n",
       "      <td>52</td>\n",
       "    </tr>\n",
       "    <tr>\n",
       "      <th>2</th>\n",
       "      <td>60</td>\n",
       "      <td>3</td>\n",
       "      <td>74.0</td>\n",
       "      <td>13830</td>\n",
       "      <td>1</td>\n",
       "      <td>0</td>\n",
       "      <td>3</td>\n",
       "      <td>0</td>\n",
       "      <td>4</td>\n",
       "      <td>0</td>\n",
       "      <td>...</td>\n",
       "      <td>0</td>\n",
       "      <td>0</td>\n",
       "      <td>0</td>\n",
       "      <td>3</td>\n",
       "      <td>2010</td>\n",
       "      <td>8</td>\n",
       "      <td>4</td>\n",
       "      <td>2557.0</td>\n",
       "      <td>13</td>\n",
       "      <td>12</td>\n",
       "    </tr>\n",
       "    <tr>\n",
       "      <th>3</th>\n",
       "      <td>60</td>\n",
       "      <td>3</td>\n",
       "      <td>78.0</td>\n",
       "      <td>9978</td>\n",
       "      <td>1</td>\n",
       "      <td>0</td>\n",
       "      <td>3</td>\n",
       "      <td>0</td>\n",
       "      <td>4</td>\n",
       "      <td>0</td>\n",
       "      <td>...</td>\n",
       "      <td>0</td>\n",
       "      <td>0</td>\n",
       "      <td>0</td>\n",
       "      <td>6</td>\n",
       "      <td>2010</td>\n",
       "      <td>8</td>\n",
       "      <td>4</td>\n",
       "      <td>2530.0</td>\n",
       "      <td>12</td>\n",
       "      <td>12</td>\n",
       "    </tr>\n",
       "    <tr>\n",
       "      <th>4</th>\n",
       "      <td>120</td>\n",
       "      <td>3</td>\n",
       "      <td>43.0</td>\n",
       "      <td>5005</td>\n",
       "      <td>1</td>\n",
       "      <td>0</td>\n",
       "      <td>1</td>\n",
       "      <td>0</td>\n",
       "      <td>4</td>\n",
       "      <td>0</td>\n",
       "      <td>...</td>\n",
       "      <td>144</td>\n",
       "      <td>0</td>\n",
       "      <td>0</td>\n",
       "      <td>1</td>\n",
       "      <td>2010</td>\n",
       "      <td>8</td>\n",
       "      <td>4</td>\n",
       "      <td>2560.0</td>\n",
       "      <td>18</td>\n",
       "      <td>18</td>\n",
       "    </tr>\n",
       "  </tbody>\n",
       "</table>\n",
       "<p>5 rows × 78 columns</p>\n",
       "</div>"
      ],
      "text/plain": [
       "   MSSubClass  MSZoning  LotFrontage  LotArea  Street  LotShape  LandContour  \\\n",
       "0          20         2         80.0    11622       1         3            3   \n",
       "1          20         3         81.0    14267       1         0            3   \n",
       "2          60         3         74.0    13830       1         0            3   \n",
       "3          60         3         78.0     9978       1         0            3   \n",
       "4         120         3         43.0     5005       1         0            1   \n",
       "\n",
       "   Utilities  LotConfig  LandSlope  ...  ScreenPorch  PoolArea  MiscVal  \\\n",
       "0          0          4          0  ...          120         0        0   \n",
       "1          0          0          0  ...            0         0    12500   \n",
       "2          0          4          0  ...            0         0        0   \n",
       "3          0          4          0  ...            0         0        0   \n",
       "4          0          4          0  ...          144         0        0   \n",
       "\n",
       "   MoSold  YrSold  SaleType  SaleCondition  TotalSF  HouseAge  RemodAge  \n",
       "0       6    2010         8              4   1778.0        49        49  \n",
       "1       6    2010         8              4   2658.0        52        52  \n",
       "2       3    2010         8              4   2557.0        13        12  \n",
       "3       6    2010         8              4   2530.0        12        12  \n",
       "4       1    2010         8              4   2560.0        18        18  \n",
       "\n",
       "[5 rows x 78 columns]"
      ]
     },
     "execution_count": 307,
     "metadata": {},
     "output_type": "execute_result"
    }
   ],
   "source": [
    "# Total square footage\n",
    "test_df['TotalSF'] = test_df['TotalBsmtSF'] + test_df['1stFlrSF'] + test_df['2ndFlrSF']\n",
    "\n",
    "# Age of the house\n",
    "test_df['HouseAge'] = test_df['YrSold'] - test_df['YearBuilt']\n",
    "\n",
    "# Age since remodeling\n",
    "test_df['RemodAge'] = test_df['YrSold'] - test_df['YearRemodAdd']\n",
    "\n",
    "test_df.head()"
   ]
  },
  {
   "cell_type": "markdown",
   "id": "e8b44238-4dff-4ec6-ac31-9a311fb50790",
   "metadata": {},
   "source": []
  },
  {
   "cell_type": "markdown",
   "id": "800011f7-31c1-4bae-ac68-f3a3ed17975f",
   "metadata": {},
   "source": [
    "## Standardisation"
   ]
  },
  {
   "cell_type": "code",
   "execution_count": 313,
   "id": "221f8402-f857-46c0-ae90-c987d8b662aa",
   "metadata": {},
   "outputs": [],
   "source": [
    "scaler = StandardScaler()\n",
    "scaled_cols = test_df.select_dtypes(include=['float64', 'int64']).columns\n",
    "\n",
    "test_df[scaled_cols] = scaler.fit_transform(test_df[scaled_cols])"
   ]
  },
  {
   "cell_type": "code",
   "execution_count": 315,
   "id": "44742d12-e66e-4c52-b2fa-676feca6f3fe",
   "metadata": {},
   "outputs": [
    {
     "data": {
      "text/html": [
       "<div>\n",
       "<style scoped>\n",
       "    .dataframe tbody tr th:only-of-type {\n",
       "        vertical-align: middle;\n",
       "    }\n",
       "\n",
       "    .dataframe tbody tr th {\n",
       "        vertical-align: top;\n",
       "    }\n",
       "\n",
       "    .dataframe thead th {\n",
       "        text-align: right;\n",
       "    }\n",
       "</style>\n",
       "<table border=\"1\" class=\"dataframe\">\n",
       "  <thead>\n",
       "    <tr style=\"text-align: right;\">\n",
       "      <th></th>\n",
       "      <th>MSSubClass</th>\n",
       "      <th>MSZoning</th>\n",
       "      <th>LotFrontage</th>\n",
       "      <th>LotArea</th>\n",
       "      <th>Street</th>\n",
       "      <th>LotShape</th>\n",
       "      <th>LandContour</th>\n",
       "      <th>Utilities</th>\n",
       "      <th>LotConfig</th>\n",
       "      <th>LandSlope</th>\n",
       "      <th>...</th>\n",
       "      <th>ScreenPorch</th>\n",
       "      <th>PoolArea</th>\n",
       "      <th>MiscVal</th>\n",
       "      <th>MoSold</th>\n",
       "      <th>YrSold</th>\n",
       "      <th>SaleType</th>\n",
       "      <th>SaleCondition</th>\n",
       "      <th>TotalSF</th>\n",
       "      <th>HouseAge</th>\n",
       "      <th>RemodAge</th>\n",
       "    </tr>\n",
       "  </thead>\n",
       "  <tbody>\n",
       "    <tr>\n",
       "      <th>0</th>\n",
       "      <td>-0.874711</td>\n",
       "      <td>-1.501777</td>\n",
       "      <td>0.567330</td>\n",
       "      <td>0.363929</td>\n",
       "      <td>0.06426</td>\n",
       "      <td>0.742620</td>\n",
       "      <td>0.31870</td>\n",
       "      <td>0.0</td>\n",
       "      <td>0.572445</td>\n",
       "      <td>-0.207992</td>\n",
       "      <td>...</td>\n",
       "      <td>1.818960</td>\n",
       "      <td>-0.057227</td>\n",
       "      <td>-0.092244</td>\n",
       "      <td>-0.038281</td>\n",
       "      <td>1.713905</td>\n",
       "      <td>0.32475</td>\n",
       "      <td>0.201383</td>\n",
       "      <td>-0.954072</td>\n",
       "      <td>0.413784</td>\n",
       "      <td>1.178391</td>\n",
       "    </tr>\n",
       "    <tr>\n",
       "      <th>1</th>\n",
       "      <td>-0.874711</td>\n",
       "      <td>-0.039098</td>\n",
       "      <td>0.615963</td>\n",
       "      <td>0.897861</td>\n",
       "      <td>0.06426</td>\n",
       "      <td>-1.384637</td>\n",
       "      <td>0.31870</td>\n",
       "      <td>0.0</td>\n",
       "      <td>-1.950811</td>\n",
       "      <td>-0.207992</td>\n",
       "      <td>...</td>\n",
       "      <td>-0.301543</td>\n",
       "      <td>-0.057227</td>\n",
       "      <td>19.730438</td>\n",
       "      <td>-0.038281</td>\n",
       "      <td>1.713905</td>\n",
       "      <td>0.32475</td>\n",
       "      <td>0.201383</td>\n",
       "      <td>0.164507</td>\n",
       "      <td>0.512398</td>\n",
       "      <td>1.320405</td>\n",
       "    </tr>\n",
       "    <tr>\n",
       "      <th>2</th>\n",
       "      <td>0.061351</td>\n",
       "      <td>-0.039098</td>\n",
       "      <td>0.275532</td>\n",
       "      <td>0.809646</td>\n",
       "      <td>0.06426</td>\n",
       "      <td>-1.384637</td>\n",
       "      <td>0.31870</td>\n",
       "      <td>0.0</td>\n",
       "      <td>0.572445</td>\n",
       "      <td>-0.207992</td>\n",
       "      <td>...</td>\n",
       "      <td>-0.301543</td>\n",
       "      <td>-0.057227</td>\n",
       "      <td>-0.092244</td>\n",
       "      <td>-1.140614</td>\n",
       "      <td>1.713905</td>\n",
       "      <td>0.32475</td>\n",
       "      <td>0.201383</td>\n",
       "      <td>0.036124</td>\n",
       "      <td>-0.769577</td>\n",
       "      <td>-0.573119</td>\n",
       "    </tr>\n",
       "    <tr>\n",
       "      <th>3</th>\n",
       "      <td>0.061351</td>\n",
       "      <td>-0.039098</td>\n",
       "      <td>0.470064</td>\n",
       "      <td>0.032064</td>\n",
       "      <td>0.06426</td>\n",
       "      <td>-1.384637</td>\n",
       "      <td>0.31870</td>\n",
       "      <td>0.0</td>\n",
       "      <td>0.572445</td>\n",
       "      <td>-0.207992</td>\n",
       "      <td>...</td>\n",
       "      <td>-0.301543</td>\n",
       "      <td>-0.057227</td>\n",
       "      <td>-0.092244</td>\n",
       "      <td>-0.038281</td>\n",
       "      <td>1.713905</td>\n",
       "      <td>0.32475</td>\n",
       "      <td>0.201383</td>\n",
       "      <td>0.001804</td>\n",
       "      <td>-0.802448</td>\n",
       "      <td>-0.573119</td>\n",
       "    </tr>\n",
       "    <tr>\n",
       "      <th>4</th>\n",
       "      <td>1.465443</td>\n",
       "      <td>-0.039098</td>\n",
       "      <td>-1.232092</td>\n",
       "      <td>-0.971808</td>\n",
       "      <td>0.06426</td>\n",
       "      <td>-1.384637</td>\n",
       "      <td>-2.53396</td>\n",
       "      <td>0.0</td>\n",
       "      <td>0.572445</td>\n",
       "      <td>-0.207992</td>\n",
       "      <td>...</td>\n",
       "      <td>2.243060</td>\n",
       "      <td>-0.057227</td>\n",
       "      <td>-0.092244</td>\n",
       "      <td>-1.875504</td>\n",
       "      <td>1.713905</td>\n",
       "      <td>0.32475</td>\n",
       "      <td>0.201383</td>\n",
       "      <td>0.039938</td>\n",
       "      <td>-0.605221</td>\n",
       "      <td>-0.289090</td>\n",
       "    </tr>\n",
       "  </tbody>\n",
       "</table>\n",
       "<p>5 rows × 78 columns</p>\n",
       "</div>"
      ],
      "text/plain": [
       "   MSSubClass  MSZoning  LotFrontage   LotArea   Street  LotShape  \\\n",
       "0   -0.874711 -1.501777     0.567330  0.363929  0.06426  0.742620   \n",
       "1   -0.874711 -0.039098     0.615963  0.897861  0.06426 -1.384637   \n",
       "2    0.061351 -0.039098     0.275532  0.809646  0.06426 -1.384637   \n",
       "3    0.061351 -0.039098     0.470064  0.032064  0.06426 -1.384637   \n",
       "4    1.465443 -0.039098    -1.232092 -0.971808  0.06426 -1.384637   \n",
       "\n",
       "   LandContour  Utilities  LotConfig  LandSlope  ...  ScreenPorch  PoolArea  \\\n",
       "0      0.31870        0.0   0.572445  -0.207992  ...     1.818960 -0.057227   \n",
       "1      0.31870        0.0  -1.950811  -0.207992  ...    -0.301543 -0.057227   \n",
       "2      0.31870        0.0   0.572445  -0.207992  ...    -0.301543 -0.057227   \n",
       "3      0.31870        0.0   0.572445  -0.207992  ...    -0.301543 -0.057227   \n",
       "4     -2.53396        0.0   0.572445  -0.207992  ...     2.243060 -0.057227   \n",
       "\n",
       "     MiscVal    MoSold    YrSold  SaleType  SaleCondition   TotalSF  HouseAge  \\\n",
       "0  -0.092244 -0.038281  1.713905   0.32475       0.201383 -0.954072  0.413784   \n",
       "1  19.730438 -0.038281  1.713905   0.32475       0.201383  0.164507  0.512398   \n",
       "2  -0.092244 -1.140614  1.713905   0.32475       0.201383  0.036124 -0.769577   \n",
       "3  -0.092244 -0.038281  1.713905   0.32475       0.201383  0.001804 -0.802448   \n",
       "4  -0.092244 -1.875504  1.713905   0.32475       0.201383  0.039938 -0.605221   \n",
       "\n",
       "   RemodAge  \n",
       "0  1.178391  \n",
       "1  1.320405  \n",
       "2 -0.573119  \n",
       "3 -0.573119  \n",
       "4 -0.289090  \n",
       "\n",
       "[5 rows x 78 columns]"
      ]
     },
     "execution_count": 315,
     "metadata": {},
     "output_type": "execute_result"
    }
   ],
   "source": [
    "test_df.head()"
   ]
  },
  {
   "cell_type": "markdown",
   "id": "75ceb3ee-f705-4628-b205-567e248a3e7a",
   "metadata": {},
   "source": [
    "## Predicting the Test dataset"
   ]
  },
  {
   "cell_type": "code",
   "execution_count": 318,
   "id": "600eedcb-b8b2-488b-9e8b-0a258b9aa149",
   "metadata": {},
   "outputs": [],
   "source": [
    "# Using Random Forest as it delivered better results\n",
    "X_test_final = test_df[X_train.columns]  \n",
    "test_predictions = rf.predict(X_test_final)"
   ]
  },
  {
   "cell_type": "code",
   "execution_count": 320,
   "id": "d69be8d1-5e36-4cfe-bc34-0874dd36409e",
   "metadata": {},
   "outputs": [],
   "source": [
    "test_df['Predicted_SalePrice'] = test_predictions"
   ]
  },
  {
   "cell_type": "code",
   "execution_count": 322,
   "id": "0d09a2aa-28c0-4c10-88fd-23c5af0d8298",
   "metadata": {},
   "outputs": [],
   "source": [
    "test_df.to_excel(\"test_with_predictions.xlsx\", index=False)"
   ]
  }
 ],
 "metadata": {
  "kernelspec": {
   "display_name": "Python [conda env:base] *",
   "language": "python",
   "name": "conda-base-py"
  },
  "language_info": {
   "codemirror_mode": {
    "name": "ipython",
    "version": 3
   },
   "file_extension": ".py",
   "mimetype": "text/x-python",
   "name": "python",
   "nbconvert_exporter": "python",
   "pygments_lexer": "ipython3",
   "version": "3.12.7"
  }
 },
 "nbformat": 4,
 "nbformat_minor": 5
}
